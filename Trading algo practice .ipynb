{
 "cells": [
  {
   "cell_type": "code",
   "execution_count": 39,
   "metadata": {},
   "outputs": [
    {
     "name": "stdout",
     "output_type": "stream",
     "text": [
      "Buy the stock which has ratio 40\n",
      "Buy the stock which has ratio 100\n",
      "sell with ratio 120\n",
      "Buy the stock which has ratio 45\n",
      "Buy the stock which has ratio 15\n",
      "sell with ratio 200\n",
      "sell with ratio 500\n",
      "sell with ratio 101\n",
      "Buy the stock which has ratio 99\n",
      "sell with ratio 130\n",
      "sell with ratio 145\n"
     ]
    }
   ],
   "source": [
    "ratio=[40,100,120,45,15,200,500,101,99, 130,145]\n",
    "\n",
    "for i in ratio:\n",
    "    if i<=100:\n",
    "        print(\"Buy the stock which has ratio \"+str(i))\n",
    "    else :\n",
    "        print(\"sell with ratio \"+str(i))\n",
    "#if less than 100 buy, concvert int to str. if more than 100 sell \n",
    "#you set it to sell at 500"
   ]
  },
  {
   "cell_type": "code",
   "execution_count": 54,
   "metadata": {},
   "outputs": [
    {
     "name": "stdout",
     "output_type": "stream",
     "text": [
      "hold 40\n",
      "buy 100\n",
      "sell 120\n",
      "hold 45\n",
      "hold 15\n",
      "sell 200\n",
      "sell 500\n",
      "sell 101\n",
      "buy 99\n",
      "sell 130\n",
      "sell 145\n",
      "sell exit 65\n",
      "sell exit 63\n"
     ]
    }
   ],
   "source": [
    "ratio=[40,100,120,45,15,200,500,101,99, 130,145,65,63]\n",
    "for i in ratio:\n",
    "    if ((i>=70) & (i<=100)):\n",
    "        print(\"buy \"+str(i))\n",
    "    elif ((i>60) & (i<70)):\n",
    "        print(\"sell exit \"+str(i))\n",
    "    elif i>100:\n",
    "        print(\"sell \"+str(i))\n",
    "    else :\n",
    "        print(\"hold \"+str(i))\n",
    "    "
   ]
  },
  {
   "cell_type": "code",
   "execution_count": 40,
   "metadata": {},
   "outputs": [
    {
     "name": "stdout",
     "output_type": "stream",
     "text": [
      "sell stock which is 60\n",
      "Buy stock which is 100\n",
      "sell stock which is 70\n",
      "sell stock which is 80\n",
      "sell stock which is 30\n",
      "Buy stock which is 120\n",
      "Buy stock which is 200\n"
     ]
    }
   ],
   "source": [
    "ratio=[60,100,70,80,30,95,120,200]\n",
    "\n",
    "for i in ratio:\n",
    "    if i>=100:\n",
    "        print(\"Buy stock which is \" + str(i))\n",
    "    elif i<90 :\n",
    "        print(\"sell stock which is \" + str(i))\n",
    "    "
   ]
  },
  {
   "cell_type": "code",
   "execution_count": 41,
   "metadata": {},
   "outputs": [
    {
     "name": "stdout",
     "output_type": "stream",
     "text": [
      "buy stock which is 60\n",
      "hold stock which is 100\n",
      "buy stock which is 70\n",
      "buy stock which is 80\n",
      "buy stock which is 30\n",
      "hold stock which is 95\n",
      "sell stock which is 120\n",
      "sell stock which is 200\n"
     ]
    }
   ],
   "source": [
    "for i in ratio:\n",
    "    if i>=110:\n",
    "        print(\"sell stock which is \" + str(i))\n",
    "    elif i<90 :\n",
    "        print(\"buy stock which is \" + str(i))\n",
    "    else :\n",
    "        print(\"hold stock which is \"+str(i))\n",
    "    "
   ]
  },
  {
   "cell_type": "code",
   "execution_count": 42,
   "metadata": {},
   "outputs": [
    {
     "name": "stdout",
     "output_type": "stream",
     "text": [
      "hold stock which is 40\n",
      "hold stock which is 100\n",
      "buy stock which is 120\n",
      "hold stock which is 45\n",
      "hold stock which is 15\n",
      "buy stock which is 200\n",
      "buy stock which is 500\n",
      "hold stock which is 101\n",
      "hold stock which is 99\n",
      "buy stock which is 130\n",
      "buy stock which is 145\n"
     ]
    }
   ],
   "source": [
    "ratio=[40,100,120,45,15,200,500,101,99, 130,145]\n",
    "for i in ratio:\n",
    "    if i>=110:\n",
    "        print(\"buy stock which is \" + str(i))\n",
    "    elif (i>120 and i<150) :\n",
    "        print(\"sell stock which is \" + str(i))\n",
    "    else :\n",
    "        print(\"hold stock which is \"+str(i))\n",
    "    "
   ]
  },
  {
   "cell_type": "code",
   "execution_count": 43,
   "metadata": {},
   "outputs": [
    {
     "name": "stdout",
     "output_type": "stream",
     "text": [
      "hold 40\n",
      "buy 100\n",
      "buy 120\n",
      "hold 45\n",
      "hold 15\n",
      "buy 200\n",
      "buy 500\n",
      "buy 101\n",
      "buy 99\n",
      "buy 130\n",
      "buy 145\n"
     ]
    }
   ],
   "source": [
    "ratio=[40,100,120,45,15,200,500,101,99, 130,145]\n",
    "for i in ratio:\n",
    "    if i>=70:\n",
    "        print(\"buy \"+str(i))\n",
    "    elif i>100:\n",
    "        print(\"sell \"+str(i))\n",
    "    else :\n",
    "        print(\"hold \"+str(i))\n",
    "    "
   ]
  },
  {
   "cell_type": "code",
   "execution_count": null,
   "metadata": {},
   "outputs": [],
   "source": []
  },
  {
   "cell_type": "code",
   "execution_count": 44,
   "metadata": {},
   "outputs": [
    {
     "name": "stdout",
     "output_type": "stream",
     "text": [
      "hold 40\n",
      "buy 100\n",
      "buy 120\n",
      "hold 45\n",
      "hold 15\n",
      "buy 200\n",
      "buy 500\n",
      "buy 101\n",
      "buy 99\n",
      "buy 130\n",
      "buy 145\n"
     ]
    }
   ],
   "source": [
    "ratio=[40,100,120,45,15,200,500,101,99, 130,145]\n",
    "for i in ratio:\n",
    "    if i>=70:\n",
    "        print(\"buy \"+str(i))\n",
    "    elif i>100:\n",
    "        print(\"sell \"+str(i))\n",
    "    else :\n",
    "        print(\"hold \"+str(i))"
   ]
  },
  {
   "cell_type": "code",
   "execution_count": 45,
   "metadata": {},
   "outputs": [
    {
     "name": "stdout",
     "output_type": "stream",
     "text": [
      "hold 40\n",
      "buy 100\n",
      "buy 120\n",
      "hold 45\n",
      "hold 15\n",
      "buy 200\n",
      "buy 500\n",
      "buy 101\n",
      "buy 99\n",
      "buy 130\n",
      "buy 145\n",
      "hold 60\n",
      "sell exit 65\n",
      "sell exit 68\n",
      "hold 55\n"
     ]
    }
   ],
   "source": [
    "ratio=[40,100,120,45,15,200,500,101,99, 130,145,60,65,68,55]\n",
    "\n",
    "for i in ratio:\n",
    "    if i>70:\n",
    "        print(\"buy \"+str(i))\n",
    "    elif i>100:\n",
    "        print(\"sell \"+str(i))\n",
    "    elif ((i>60) & (i<70)):\n",
    "        print(\"sell exit \"+str(i))\n",
    "    else:\n",
    "        print(\"hold \"+str(i))\n"
   ]
  },
  {
   "cell_type": "code",
   "execution_count": 46,
   "metadata": {},
   "outputs": [],
   "source": [
    "import numpy as np\n",
    "import matplotlib.pyplot as plt\n",
    "import seaborn\n",
    "from tabulate import tabulate\n",
    "\n"
   ]
  },
  {
   "cell_type": "markdown",
   "metadata": {},
   "source": [
    "def call_payoff(sT, strike_price, premium):\n",
    "    return np.where(sT > strike_price, sT - strike_price-premium, -premium)"
   ]
  },
  {
   "cell_type": "code",
   "execution_count": 47,
   "metadata": {},
   "outputs": [],
   "source": [
    "def call_payoff(sT, strike_price, premium):\n",
    "    return np.where(sT > strike_price, sT - strike_price-premium, -premium)"
   ]
  },
  {
   "cell_type": "code",
   "execution_count": 53,
   "metadata": {},
   "outputs": [
    {
     "name": "stdout",
     "output_type": "stream",
     "text": [
      "hold 40\n",
      "buy 100\n",
      "sell 120\n",
      "hold 45\n",
      "hold 15\n",
      "sell 200\n",
      "sell 500\n",
      "sell 101\n",
      "buy 99\n",
      "sell 130\n",
      "sell 145\n",
      "sell exit 65\n",
      "sell exit 63\n"
     ]
    }
   ],
   "source": [
    "ratio=[40,100,120,45,15,200,500,101,99, 130,145,65,63]\n",
    "for i in ratio:\n",
    "    if ((i>=70) & (i<=100)):\n",
    "        print(\"buy \"+str(i))\n",
    "    elif ((i>60) & (i<70)):\n",
    "        print(\"sell exit \"+str(i))\n",
    "    elif i>100:\n",
    "        print(\"sell \"+str(i))\n",
    "    else :\n",
    "        print(\"hold \"+str(i))\n",
    "    "
   ]
  },
  {
   "cell_type": "code",
   "execution_count": 55,
   "metadata": {},
   "outputs": [
    {
     "name": "stdout",
     "output_type": "stream",
     "text": [
      "hold 40\n",
      "buy 100\n",
      "sell 120\n",
      "hold 45\n",
      "hold 15\n",
      "sell 200\n",
      "sell 500\n",
      "sell 101\n",
      "buy 99\n",
      "sell 130\n",
      "sell 145\n"
     ]
    }
   ],
   "source": [
    "ratio=[40,100,120,45,15,200,500,101,99, 130,145]\n",
    "for i in ratio:\n",
    "    if ((i>=70) & (i<=100)):\n",
    "        print(\"buy \"+str(i))\n",
    "    elif i>100:\n",
    "        print(\"sell \"+str(i))\n",
    "    else :\n",
    "        print(\"hold \"+str(i))"
   ]
  },
  {
   "cell_type": "code",
   "execution_count": 75,
   "metadata": {},
   "outputs": [
    {
     "name": "stdout",
     "output_type": "stream",
     "text": [
      "hold 30\n",
      "hold 60.7\n",
      "Buy80\n",
      "Buy90\n",
      "Buy95\n",
      "Buy99\n",
      "sell 105\n",
      "sell 130\n",
      "sell 140\n",
      "sell 155\n",
      "sell 170\n",
      "sell 200\n",
      "hold 65\n",
      "hold 63\n",
      "sell exit 75\n"
     ]
    }
   ],
   "source": [
    "ratio=[30,60.70,80,90,95,99,105,130,140,155,170,200, 65, 63,75]\n",
    "for i in ratio: \n",
    "    if ((i>=80) & (i<=100)):\n",
    "        print(\"Buy\" +str(i))\n",
    "    elif ((i>=100) & (i<=200)):\n",
    "        print(\"sell \" +str(i))\n",
    "    elif ((i>=70) & (i<=80)):\n",
    "        print(\"sell exit \" +str(i))\n",
    "    else:\n",
    "        print(\"hold \" + str(i))"
   ]
  },
  {
   "cell_type": "code",
   "execution_count": 79,
   "metadata": {},
   "outputs": [
    {
     "name": "stdout",
     "output_type": "stream",
     "text": [
      "hold 30\n",
      "hold 40\n",
      "hold 50\n",
      "hold 60\n",
      "sell exit70\n",
      "buy 80\n",
      "buy 90\n",
      "sell 110\n",
      "sell 120\n",
      "sell 130\n",
      "sell 160\n",
      "sell 170\n",
      "sell 200\n",
      "sell exit75\n",
      "hold 64\n"
     ]
    }
   ],
   "source": [
    "ratio=[30,40,50,60,70,80,90,110,120,130,160,170,200,75,64]\n",
    "for i in ratio:\n",
    "    if ((i>=80) & (i<=100)):\n",
    "        print(\"buy \"+str(i))\n",
    "    elif ((i>100) & (i<=200)):\n",
    "        print(\"sell \"+str(i))\n",
    "    elif ((i>=70) & (i<=80)):\n",
    "        print(\"sell exit\" + str(i))\n",
    "    else:\n",
    "        print(\"hold \" + str(i))"
   ]
  },
  {
   "cell_type": "code",
   "execution_count": null,
   "metadata": {},
   "outputs": [],
   "source": []
  }
 ],
 "metadata": {
  "kernelspec": {
   "display_name": "Python 3",
   "language": "python",
   "name": "python3"
  },
  "language_info": {
   "codemirror_mode": {
    "name": "ipython",
    "version": 3
   },
   "file_extension": ".py",
   "mimetype": "text/x-python",
   "name": "python",
   "nbconvert_exporter": "python",
   "pygments_lexer": "ipython3",
   "version": "3.7.3"
  }
 },
 "nbformat": 4,
 "nbformat_minor": 2
}
