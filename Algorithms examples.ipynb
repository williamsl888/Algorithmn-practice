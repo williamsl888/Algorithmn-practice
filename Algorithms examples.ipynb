{
 "cells": [
  {
   "cell_type": "code",
   "execution_count": 1,
   "metadata": {},
   "outputs": [
    {
     "name": "stdout",
     "output_type": "stream",
     "text": [
      "1\n",
      "2\n",
      "3\n",
      "10\n",
      "1\n",
      "2\n",
      "3\n",
      "10\n",
      "1\n",
      "2\n",
      "3\n",
      "20\n"
     ]
    }
   ],
   "source": [
    "#node class\n",
    "class Node:\n",
    "    #function to initialize the node object\n",
    "    def __init__(self,data): #class node. class link list. \n",
    "        self.data=data #assign the data\n",
    "        self.next=None #initialize next as null\n",
    "class LinkedList:# create a lineked List\n",
    "    def __init__(self):#function to iinitialize the linked list object. init function. part of a class. \n",
    "        self.head=None\n",
    "#Code execution starts here\n",
    "    def printList(self): #part of class. \n",
    "        temp=self.head\n",
    "        while(temp):\n",
    "            print (temp.data)\n",
    "            temp=temp.next #these head point to the next. \n",
    "   #inserting at the begining\n",
    "    def insertAtBegining(self,newdata):\n",
    "        newnode=Node(newdata) #new node is 10. \n",
    "        newnode.next=self.head #point this to next which is first node earlier. self.head is the node which it is point\n",
    "        #to. pointing toward first node from self.head newnode.next is the first node. \n",
    "        self.head=newnode #which is data one. new node is pointing to the self.head\n",
    "    def  insertAtEnd(self, newdata):\n",
    "        newNode=Node(newdata)\n",
    "        if self.head is None:\n",
    "            self.head = newNode\n",
    "            return\n",
    "        last = self.head\n",
    "        while(last.next):\n",
    "            last=last.next\n",
    "        last.next=newNode\n",
    "            \n",
    "    def insertInBetween(self,middle_node,new_data):\n",
    "        if middle_node is None:\n",
    "            print(\"the mentioned node\")\n",
    "            return \n",
    "        newnode = Node(new_data)\n",
    "        newnode.next=middle_node.next\n",
    "        \n",
    "        \n",
    "if __name__ == '__main__': #main space. starting point of program. \n",
    "    #start with the empty list\n",
    "    llist = LinkedList() #object of class linkedlist. on line 7 \n",
    "    llist.head=Node(1) \n",
    "    second=Node(2)\n",
    "    third=Node(3)\n",
    "    '''Three nodes have been created\n",
    "    Wh have references to these three blocks aas head\n",
    "    second and third\n",
    "    '''\n",
    "    \n",
    "    llist.head.next = second; #link first node with second. llist.head is 1st node going .node first node next. \n",
    "    #that means number two. \n",
    "    '''now the next of first node regfers to second .so they both are linked\n",
    "    '''\n",
    "    second.next = third;\n",
    "    # link second node with third node \n",
    "    '''Now next of second node refers to third so all three nodes are linked\n",
    "    '''\n",
    "    llist.printList() #line 11\n",
    "    \n",
    "    \n",
    "    llist.insertAtBegining(10) #will go down to 17.\n",
    "    llist.printList()\n",
    "    llist.insertAtEnd(20)\n",
    "    llist.printList()\n",
    "    llist.insertInBetween(list)\n",
    "    \n",
    "    "
   ]
  },
  {
   "cell_type": "code",
   "execution_count": 4,
   "metadata": {},
   "outputs": [
    {
     "name": "stdout",
     "output_type": "stream",
     "text": [
      "enter numbers seperated by a comma\n",
      "3,1,5,0,8\n",
      "[0, 1, 3, 5, 8]\n"
     ]
    }
   ],
   "source": [
    "'''This is an implementation of selection sorting algorithm\n",
    "collection  is a list which is unsorted\n",
    " we have to enter the comma seperated\n",
    " 4,2,3,4,10,10\n",
    " \n",
    " print\n",
    " 0,1,2,3,4,10\n",
    " \n",
    "'''\n",
    "def selection_sort(collection):\n",
    "    length=len(collection) \n",
    "    for i in range(length-1):\n",
    "        least=i\n",
    "        for k in range(i+1,length):\n",
    "            if collection[i]>collection[k]:\n",
    "                collection[i],collection[k]=(collection[k],collection[i])\n",
    "    return collection\n",
    "\n",
    "if __name__==\"__main__\":\n",
    "    user_input=input(\"enter numbers seperated by a comma\\n\").strip()\n",
    "    unsorted=[int(item) for item in user_input.split(',')]\n",
    "    print(selection_sort(unsorted))\n",
    "    \n",
    "    #false means change. \n",
    "       "
   ]
  },
  {
   "cell_type": "code",
   "execution_count": 6,
   "metadata": {},
   "outputs": [
    {
     "name": "stdout",
     "output_type": "stream",
     "text": [
      "Element is present at index 3\n"
     ]
    }
   ],
   "source": [
    "def binary_search(arr,l,r,x): #binary search function using arr of l, r and x \n",
    "    if r >= l:\n",
    "        mid=l+(r-1)//2\n",
    "        if arr[mid]==x: #2 condition if first is true, then going to check second. \n",
    "            return mid\n",
    "        elif arr[mid]>x:\n",
    "            return binary_search(arr,1,mid-1,x)\n",
    "        else: #we dont specific condition here compare to elif. \n",
    "            return binary_search(arr,mid+1,r,x)\n",
    "    else:\n",
    "        return -1\n",
    "    \n",
    "arr = [2,3,4,10,40]\n",
    "x=10\n",
    "result=binary_search(arr,0,len(arr)-1,x)\n",
    "if result!=-1:\n",
    "    print (\"Element is present at index %d\" % result )\n",
    "else:\n",
    "    print(\"Element is not present in array\")\n",
    "\n",
    "        "
   ]
  },
  {
   "cell_type": "code",
   "execution_count": 2,
   "metadata": {},
   "outputs": [
    {
     "name": "stdout",
     "output_type": "stream",
     "text": [
      "[1, 6, 19, 31, 45, 121, 192]\n"
     ]
    }
   ],
   "source": [
    "#Sorting is one of the complicated things in computers...because it uses in every field of software..\n",
    "#arrangement.....\n",
    "#arrangemnt needs to optimized \n",
    "# arrangement needs to fast\n",
    "# each way in computers is called algorithms of sorting\n",
    "\n",
    "# bubble sort\n",
    "#merge sort\n",
    "#insertion sort\n",
    "#shell sort\n",
    "#selection sort\n",
    "\n",
    "#1 bubble sort\n",
    "##...............................................\n",
    "\n",
    "def bubblesort(list): #your function \n",
    "    for iter_num in range(len(list)-1,0,-1): #for 6 in range. #shows 6 times. \n",
    "        for idx in range(iter_num): #1,2,3,4,5 in 6. and 1,2,3,4 in 5.\n",
    "            if list[idx]>list[idx+1]: # list of 0 > 1. then 2 >3. 192 compare to 6. if bigger than swap, then one\n",
    "                #line to the next is being comapred. \n",
    "                temp=list[idx]\n",
    "                list[idx]=list[idx+1]\n",
    "                list[idx+1]=temp\n",
    "list=[192,6,1,19,31,45,121]\n",
    "bubblesort(list)\n",
    "print(list)"
   ]
  },
  {
   "cell_type": "code",
   "execution_count": 3,
   "metadata": {},
   "outputs": [
    {
     "name": "stdout",
     "output_type": "stream",
     "text": [
      "[11, 11, 19, 19, 27, 27, 30, 121]\n"
     ]
    }
   ],
   "source": [
    "#insertion sort  it involves finding the right place for a given element in a sorted ist. so in begining we compare the first two elements and sort them by comparing the first two elements and sort\n",
    "#sort then by comparing them. Then we pick the third element and find its proper position among the previous two sorted elements.\n",
    "#the way we gradually go on adding more elements to the already sorted list by putting them in their proper position.\n",
    "def insertion_sort(inputlist):\n",
    "    for i in range(1, len(inputlist)): #length is 8. 0- 7. 1,8 is 1-7 by default is it 0. but if specific. \n",
    "        #1 is i becuase of line 5. \n",
    "        j=i-1 #I-1 WHICH IS 0. \n",
    "        nxt_element=inputlist[i] # i is 1, which is 11. \n",
    "        while(inputlist[j]>nxt_element) and (j>=0):\n",
    "            inputlist[j+1]=inputlist[j]\n",
    "            j=j-1\n",
    "        inputlist[j+1]=nxt_element\n",
    "list=[19,11,19,27,30,11,121,27]\n",
    "insertion_sort(list)\n",
    "print(list)\n",
    "    "
   ]
  },
  {
   "cell_type": "code",
   "execution_count": 4,
   "metadata": {},
   "outputs": [
    {
     "name": "stdout",
     "output_type": "stream",
     "text": [
      "a\n",
      "b\n",
      "d\n",
      "e\n",
      "c\n"
     ]
    },
    {
     "data": {
      "text/plain": [
       "{'a', 'b', 'c', 'd', 'e'}"
      ]
     },
     "execution_count": 4,
     "metadata": {},
     "output_type": "execute_result"
    }
   ],
   "source": [
    "# Algorithms on Graph: Graphs are very useful data structure in solving\n",
    "#many important mathematical challenges.For example computer netwo rk topology #\n",
    "# analysing molecular structures of chemical compound. They are also used in city traffic control\n",
    "\n",
    "# and route planning ad even in human language and their grammers.\n",
    "# All these applications have a common challege of traversing the graph using their edges\n",
    "#and ensuring that all nodes of the visisted.\n",
    "\n",
    "#Depth first Traversal: Also callled depth first search (DFS) algorithm \n",
    "#trav eses a graph in adepth ward motion and uses a stack to rember to get \n",
    "#the next vertex to start a search where  a dead end occur in any iteration.We implement DFS for a\n",
    "#graph in python using the set data types as they provide the required functionalities to keep track of \n",
    "#viisted and unvisited nodes\n",
    "\n",
    "#if a graph is called like graph(gdict) then an object of a graph is\n",
    "#created and object has its own gdict ..\n",
    "#the same gdict will be initialized with passed gdict.\n",
    "\n",
    "class graph:\n",
    "    def __init__(self,gdict=None):\n",
    "        if gdict is None:\n",
    "            gdict={} #blank dictionary, no key and value. \n",
    "        self.gdict=gdict #initilizes this way when you self. after that you it the same. \n",
    "def dfs(graph,start,visited=None):\n",
    "    if visited is None:\n",
    "        visited=set() #set is like a list. \n",
    "    visited.add(start) #add a to the visited. start is the starting node. \n",
    "    print(start)\n",
    "    for next in graph[start]-visited: #start - visited. \n",
    "        dfs(graph,next,visited) #graph is your current position then moving next, after next you mark it as visited.\n",
    "    return visited #using graph and it is at the start. graph is line 19. gets rid of one more node. from 24\n",
    "gdict={\"a\":set([\"b\",\"c\"]),\"b\":set([\"a\",\"d\"]),\"c\":set([\"a\",\"d\"]),\"d\":set([\"e\"]),\"e\":set([\"a\"])}\n",
    "dfs(gdict,'a') #our start is from here. "
   ]
  },
  {
   "cell_type": "code",
   "execution_count": null,
   "metadata": {},
   "outputs": [],
   "source": [
    "#Breadth First Traversal: Also called breadth first search(BFS) this algorithm traverse a\n",
    "#graph beadth ward motion and uses a quese to rember to get the next vertex to start a search\n",
    "#  when a dead end occur in any iteration, Please ivisist this link in pur website to understand\n",
    "#the details of BFS steps for a graph..We implement BFS for graph using queue data structure.\n",
    "#When we keep visiting the adjacent univisted nodes and keep adding it to the quesue..\n",
    "#Then we start dequeue only the node which is left with no univisited nodes. We stop the program when there\n",
    "#no next adjacent node to be visisted.\n",
    "import collections\n",
    "class graph:\n",
    "    def __init__(self, gdict=None):\n",
    "        if gdict is None:\n",
    "            gdict={}\n",
    "        self.gdict=gdict\n",
    "def bfs(graph,startnode):\n",
    "    seen,queue=set([startnode]),collections.deque([startnode])\n",
    "    while queue:\n",
    "        vertex=queue.popleft()\n",
    "        marked(vertex)\n",
    "        for node  in graph[vertex]:\n",
    "            if node not in seen:\n",
    "                seen.add(node)\n",
    "                queue.append(node)\n",
    "def marked(n):\n",
    "    print(n)\n",
    "gdict={\"a\":set([\"b\",\"c\"]),\"b\":set([\"a\",\"d\"]),\"c\":set([\"a\",\"d\"]),\"d\":set([\"e\"]),\"e\":set([\"a\"])}\n",
    "bfs(gdict,\"a\")"
   ]
  },
  {
   "cell_type": "code",
   "execution_count": null,
   "metadata": {},
   "outputs": [],
   "source": [
    "# Linear Search\n",
    "#list  or array is traversed sequentiallyand every element is checked.."
   ]
  },
  {
   "cell_type": "code",
   "execution_count": null,
   "metadata": {},
   "outputs": [],
   "source": [
    "def search(arr,n ,x): #arr will contain n and x \n",
    "    for i in range(0,n): #from 0 to 6.  \n",
    "        if(arr[i]==x): #arr==x . x is 10. arr{0] is equal to one which is false. 1==10. false\n",
    "            return i #return 0. at 4 it is is 10. \n",
    "    return -1\n",
    "arr=[1,2,3,4,10,40]\n",
    "x=10 #x is number to search in a list \n",
    "n=len(arr) #length of our list. \n",
    "result = search(arr,n,x) #calling a function which is declared at line number 1. fuction is search. \n",
    "if(result == -1): #4 = -1 which isnt true, so present on index 4 and else is printed. \n",
    "    print(\"Element is not present in array\")\n",
    "else:\n",
    "    print(\"Element is present at index\",result)\n",
    "    "
   ]
  },
  {
   "cell_type": "code",
   "execution_count": null,
   "metadata": {},
   "outputs": [],
   "source": [
    "#time complexityof above algorithm is O(n)\n",
    "# Linear search takes lot of time as it compares with each element\n",
    "\n"
   ]
  },
  {
   "cell_type": "code",
   "execution_count": 3,
   "metadata": {},
   "outputs": [
    {
     "name": "stdout",
     "output_type": "stream",
     "text": [
      "Found at index 0\n"
     ]
    }
   ],
   "source": [
    "'''Anagram substring search\n",
    "Given a text txt[0.........n-1]  and a pattern pat[0....m-1] write a function search (chat path[],char txt[])\n",
    "that prints all occurence of pat[] and its permutations (or anagrams) in txt[]. You may assume that n>m\n",
    "Expected time complexity is O(n)\n",
    "\n",
    "Input text[] =\"BACDGABCDA\"pat[]=\"ABCD\"\n",
    "output is Found at Indexd 0 \n",
    "DFound at index 5\n",
    "Found at index 6\n",
    "\n",
    "\n",
    "Input txt[]=\"AAABABAA\" pat[]=\"AABA\"\n",
    "Found at index 0\n",
    "Found at Index 1\n",
    "Found at index 4\n",
    "'''\n",
    "\n",
    "MAX=256\n",
    "def compare(arr1,arr2): #arr1 vs arr2. And if 1 vs 1, it will be false. if 1 vs any other number, it will be true.\n",
    "    \n",
    "    for i in range(MAX): \n",
    "        if(arr1[i]!=arr2[i]):\n",
    "            return False\n",
    "    return True\n",
    "def sear  ch(pat,txt):\n",
    "    M=len(pat) #length is 4 \n",
    "    N=len(txt) #length is 10 \n",
    "    countP=[0]*MAX #counts the pattern. stores count of all characters of a pattern. \n",
    "    countTW=[0]*MAX #stores current window of a text. \n",
    "    for i in range(M): #running a loop 4 times. count p and counttw will have 4 loops. value of m is 4. \n",
    "        (countP[ord(pat[i])])+=1 #each time 30 and 32 will increase by 1. up to 4\n",
    "        (countTW[ord(txt[i])])+=1\n",
    "    for i in range(M,N): #4,10. i starts here from 4 to 10. \n",
    "        if compare(countP,countTW): #compare BACDGABCDA to ABCD. We can see here that ABCD is at the end. \n",
    "            if compare(countP,countTW): #if not equal -1. if equal I found the match \n",
    "                print(\"Found at index\",i-M) \n",
    "            (countTW[ord(txt[i])])+=1 #first 4 BACD because m is 4. keeps moving by 1. \n",
    "            (countTW[ord(txt[i-M])])-=1 #we areremoving the first chamber which is b then a then c then d. \n",
    "            #4-4 = 0 position we keep incrementing. \n",
    "    if compare(countP,countTW): \n",
    "        print(\"Found at Index\",N-M) #10-4. compares the last one. pat and txt \n",
    "txt=\"BACDGABCDA\" #length of text is 10 \n",
    "pat=\"ABCD\"\n",
    "search(pat,txt) #search allows you print. We are searching a pattern in a given string. \n",
    "    \n",
    "            "
   ]
  },
  {
   "cell_type": "code",
   "execution_count": 9,
   "metadata": {},
   "outputs": [
    {
     "name": "stdout",
     "output_type": "stream",
     "text": [
      "William\n"
     ]
    }
   ],
   "source": [
    "class Queue:\n",
    "    def __init__(self):\n",
    "        self.items=[]\n",
    "    def isEmpty(self): #empty if wetever you have element in your queque or not. \n",
    "        return self.items==[]\n",
    "    def enqueue(self,item): #add element to a queque. \n",
    "        self.items.insert(0,item)\n",
    "    def dequeue(self): #pop a element from a queue.\n",
    "        return self.items.pop()\n",
    "    def size(self): \n",
    "        return len(self.items)\n",
    "def hotPotato(namelist,num):\n",
    "    simqueue=Queue()\n",
    "    for name in namelist:\n",
    "        simqueue.enqueue(name)\n",
    "    while (simqueue.size()>1):\n",
    "        for i in range(num):\n",
    "            simqueue.enqueue(simqueue.dequeue())\n",
    "            \n",
    "        simqueue.dequeue()\n",
    "    return simqueue.dequeue()\n",
    "print(hotPotato([\"David\",\"William\",\"Jeniifer\",\"Sourabh\"],4))"
   ]
  },
  {
   "cell_type": "code",
   "execution_count": 10,
   "metadata": {},
   "outputs": [
    {
     "name": "stdout",
     "output_type": "stream",
     "text": [
      "Element is present at index  3\n"
     ]
    }
   ],
   "source": [
    "#binary search in a algorithms\n",
    "def binary_search(arr,l,r,x): \n",
    "    if r>=l: # 4 > 0 yes . # line 16 goes here. \n",
    "        mid=l+(r-1)//2  #one then remainder. 3+(4-1)//2\n",
    "        if arr[mid] == x: #the middle is 2. out of 0-4 \n",
    "            return mid\n",
    "        elif arr[mid]>x:\n",
    "            return binary_search(arr,l,mid-1,x)\n",
    "        else: #this line is true. \n",
    "            return binary_search(arr,mid+1,r,x) #mid + 1 = 3. mid is at position 2. then +1 = 3. r is 4 and x is 10\n",
    "        \n",
    "    else:\n",
    "        return -1\n",
    "arr=[2,3,4,10,40]\n",
    "x=10\n",
    "result=binary_search(arr,0,len(arr)-1,x) #r is 4 and l is 0 to to line 2. 0 position goes to 0-1 =-1 > 0 false. from \n",
    "#line 3 we move to line 5, then 7 \n",
    "if result!=-1: #not equal to. true. \n",
    "    print(\"Element is present at index % d\" % result) # line 5 matches. 10 finally matches which is 10. at 3rd position\n",
    "    #d is a double here\n",
    "else:\n",
    "    print(\"Element is not present in array\")\n",
    "    "
   ]
  },
  {
   "cell_type": "code",
   "execution_count": 6,
   "metadata": {},
   "outputs": [],
   "source": [
    "# binary search is the fastest searching \n",
    "#it has log n performance\n",
    "class Node:\n",
    "    def __init__(self,key):\n",
    "        self.left=None\n",
    "        self.right=None\n",
    "        self.val=key #these values are called keys. \n",
    "root=Node(1)\n",
    "root.left=Node(2)\n",
    "root.right=Node(3)\n",
    "root.left.left=Node(4) \n",
    "root.left.right=Node(6)\n",
    "root.right.left=Node(5)\n",
    "#Tree is a hierarchical data structure Main use of tree include maintaining hierarchical data, prodviding moderate access and insert\n",
    "# and delete operation. Binary tree are special cases of tree where every node has at most two children.\n",
    "\n",
    " "
   ]
  },
  {
   "cell_type": "code",
   "execution_count": 3,
   "metadata": {},
   "outputs": [
    {
     "name": "stdout",
     "output_type": "stream",
     "text": [
      "Minimum value in BST is  1\n"
     ]
    }
   ],
   "source": [
    "class Node:\n",
    "    def __init__(self,key):\n",
    "        self.data=key\n",
    "        self.left=None\n",
    "        self.right=None\n",
    "def insert(node,data): #node is none and data is 4. has 2 arguments. one is node and one is data. \n",
    "    if node is None: #node is nothing \n",
    "        return (Node(data)) #line 21 is the data. \n",
    "    else:\n",
    "        if data<node.data: #2<4. 2 has data from 22 < 4 which is 21 it is true. \n",
    "            node.left=insert(node.left,data)\n",
    "        else:\n",
    "            node.right=insert(node.right,data)\n",
    "        return node\n",
    "def minValue(node):\n",
    "    current=node\n",
    "    while(current.left is not None):\n",
    "        current=current.left\n",
    "    return current.data\n",
    "root=None\n",
    "root=insert(root,4) #21 goes into 6. root is 0 and there is a 4. \n",
    "insert(root,2) #root is node, and 2 is data. \n",
    "insert(root,1)\n",
    "insert(root,3)\n",
    "insert(root,6)\n",
    "insert(root,4)\n",
    "print(\"Minimum value in BST is \" ,(minValue(root)))"
   ]
  },
  {
   "cell_type": "code",
   "execution_count": 11,
   "metadata": {},
   "outputs": [
    {
     "name": "stdout",
     "output_type": "stream",
     "text": [
      "17\n"
     ]
    }
   ],
   "source": [
    "#Find the closest element in Binary Search Tree: Given a binary search tree \n",
    "#and a target node K. The task is to find the node with minimum abslute \n",
    "#difference with given target value K\n",
    "\n",
    "\n",
    "class newnode:\n",
    "    def __init__(self,data):\n",
    "        self.key=data\n",
    "        self.left=None\n",
    "        self.right=None\n",
    "def maxDiffUtil(ptr,k,min_diff,min_diff_key): #root, 18. 23 to 11. PTR.right in PTR. becomes 17 which is line 32\n",
    "    if ptr == None: #9 == none. false \n",
    "        return\n",
    "    if ptr.key==k: # it is 17.9 == 18. false \n",
    "        min_diff_key[0]=k #9 = 19\n",
    "        return\n",
    "    if min_diff > abs(ptr.key-k): #9-18. -9. ptr of key is always the start. min_diff is 9(17-18) which is 9\n",
    "        #1 by 17-18. then abs of 17-18 is 1.\n",
    "        #because of the beginining. 1 >4. or 4<1. which is 22-18. we keep doing it until \n",
    "        min_diff=abs(ptr.key-k) #absof -9 is 9. value is given here. \n",
    "        min_diff_key[0]=ptr.key #also 9 because of ptr is 9 in the beginning newnode from the begnning\n",
    "    if k<ptr.key: #18<9. false. \n",
    "        maxDiffUtil(ptr.left,k,min_diff,min_diff_key) #would had been 4 \n",
    "    else:\n",
    "        maxDiffUtil(ptr.right,k,min_diff,min_diff_key) #ptrright is 17. k is 18 as it is. 9. from here we go to \n",
    "        #line number 11. \n",
    "def maxDiff(root,k):\n",
    "    min_diff,min_diff_key = 9999999999,[-1] #all the values are stored into keys. we didnt use this function \n",
    "    maxDiffUtil(root,k,min_diff,min_diff_key)\n",
    "    return min_diff_key[0] #41.\n",
    "if __name__ == '__main__':\n",
    "    root=newnode(9)\n",
    "    root.left=newnode(4)\n",
    "    root.right=newnode(17)\n",
    "    root.left.left=newnode(3)\n",
    "    root.left.right=newnode(6)\n",
    "    root.left.right.left=newnode(5)\n",
    "    root.left.right.right=newnode(7)\n",
    "    root.right.right=newnode(22)\n",
    "    root.right.right.left=newnode(20)\n",
    "    k=18\n",
    "    print(maxDiff(root,k))\n",
    "        "
   ]
  },
  {
   "cell_type": "code",
   "execution_count": 15,
   "metadata": {},
   "outputs": [
    {
     "name": "stdout",
     "output_type": "stream",
     "text": [
      "No subset with a given sum\n"
     ]
    }
   ],
   "source": [
    "# Subset sum problem:'\n",
    "# Given a set of non negative integers\n",
    "#and values sum determine if there is a subset of the given set with sum equal to given sum\n",
    "#set\n",
    "\n",
    "#input set []={3,34,4,12,5,2} sum 9\n",
    "#output  True there is a subset (4,5 ) with sum =9\n",
    "def isSubsetSum(set,n,sum): #n is 6., sum is 9 . \n",
    "    if(sum==0):\n",
    "        return True\n",
    "    if(n==0 and sum!=0):#false and true is false. 9! not equal to 0 is true. \n",
    "        return False\n",
    "    if(set[n-1]>sum): #n-1 = 6-1=5. 5th position it will be 2>9 nfalse. 3>-25. \n",
    "        return isSubsetSum(set,n-1,sum) #sum is basically 9. and 6-1 is 5 which is set \n",
    "    return isSubsetSum(set,n-1,sum) or isSubsetSum(set,n-1,sum-set[n-1]) #after this is finish. we go right. \n",
    "#if it becomes false then we go right. \n",
    "\n",
    "set=[3,34,4,12,5,2]\n",
    "sum=9\n",
    "n=len(set)\n",
    "if(isSubsetSum(set,n,sum)==True): #goes into number 8 \n",
    "    print(\"Found  subset with given sum\") #line 15 all of it doesnt contain 9. \n",
    "else:\n",
    "    print(\"No subset with a given sum\")\n",
    "    \n"
   ]
  },
  {
   "cell_type": "code",
   "execution_count": null,
   "metadata": {},
   "outputs": [],
   "source": [
    "Find a peak element\n",
    "Given an array of integers Find a peak element in it.An array element is peak if it is NOT smaller than its neighbors. For corner elements we need to consider only one neighbor\n",
    "For example  for input array 5 10 20 15 20 is the only peak elemnt for input array 10,20,15,2,23,90,67\n",
    "there are two peak elements 20,90.\n",
    "\n",
    "A simple solutionis to do linear scan of a list and as soon as we find a peak element we return it.The worst case time complexity of this method would be O(n)\n",
    "\n",
    "We can use divide and conquer to find a peak in o(longn) time. The idea is binary search based  we can compare middle element\n",
    "with its neighbors.If the middle element is smaller than its left neighbor then there is always a peak in left half \n"
   ]
  },
  {
   "cell_type": "code",
   "execution_count": 2,
   "metadata": {},
   "outputs": [
    {
     "name": "stdout",
     "output_type": "stream",
     "text": [
      "Index of a peak point is  2\n"
     ]
    }
   ],
   "source": [
    "#a binary search based function\n",
    "# that returns index of a peak element\n",
    "def findPeakUtil(arr,low,high,n): #line 11. low is 0. i and 5 , n is 6. \n",
    "#Find index of a middle element\n",
    "    mid=low+(high-low)/2 #0 + 5/ 2 = 2.5 which is 2. \n",
    "    mid=int(mid) #2.5 into 2. float into integer. \n",
    "    #compare a middle element with its neighbors if neighbor exists\n",
    "    if((mid==0 or arr[mid-1] <= arr[mid]) and (mid==n-1 or arr[mid+1]<=arr[mid])): # two true and 2 falses. \n",
    "        #we are going to get true. mid is 2. so it gets returned. \n",
    "        return mid\n",
    "    \n",
    "    #If middle element is not peak and its left neighnour is greater than it then left half must have a peak element\n",
    "    \n",
    "    elif(mid>0 and arr[mid-1]>arr[mid]): #what if, goes to 3\n",
    "        return findPeakUtil(arr,low,(mid-1),n)\n",
    "    # if middle element is not peak \n",
    "    # and its right neighbor is greater than it then right half must have a peak element\n",
    "    else: #goes back to 3 whatif.\n",
    "        return findPeakUtil(arr,(mid+1),high,n)\n",
    "def findPeak(arr,n):e \n",
    "    return findPeakUtil(arr,0,n-1,n) #line 1 \n",
    "arr=[1,3,20,4,1,0] #6 arrays \n",
    "n=len(arr) #6 length \n",
    "print(\"Index of a peak point is \",findPeak(arr,n))\n"
   ]
  },
  {
   "cell_type": "code",
   "execution_count": null,
   "metadata": {},
   "outputs": [],
   "source": []
  },
  {
   "cell_type": "code",
   "execution_count": null,
   "metadata": {},
   "outputs": [],
   "source": [
    "\"\"\"Random Variable :: random variable is a function which maps from the set of sample space to set of real numbers .The purpose \n",
    "        is to get an idea about result of a particular situation where we are given probablities of different outcomes\n",
    "        \n",
    "        suppose two coins are tosses\n",
    "        X no of heads ( x is random variable or function)\n",
    "        Sample space + HH,HT,TH,TT\n",
    "        The output of the function will be\n",
    "        HH)=2\n",
    "        X9x\n",
    "        #a random variable x set to be a discrete. If it takes on finite number of values. the probability function \n",
    "f         0<=pi<=1\n",
    "      # sum pi =1 where sum is taken over all possible values of x\n",
    "    \n",
    "    example Let S = {0,1,2}\n",
    "    Find value P(x=0)\n",
    "    then p1+p2+p2=1\n",
    "    p1+0.3+0.5=1\n",
    "    p1=0.2\"\"\""
   ]
  },
  {
   "cell_type": "code",
   "execution_count": null,
   "metadata": {},
   "outputs": [],
   "source": [
    "#A random variable X is said to be coninious if it takes on infinite number of values. The probablity function associated with\n",
    "# it is said to be PDF probablity density function\n",
    "\n",
    "\n",
    "#continous random variable is a second variable. \n",
    "#P(x<X<x+dx) = f(x)*dx\n",
    "1. 0<=f(x)<=1 for all x\n",
    "#integrate f(x)dex =1 over all values of x\n",
    "#P(X) is said to be PDF of the distribution\n",
    "\n",
    "\n",
    "such that f(x) k *x *3\n",
    "\n",
    "\n",
    "If a function is said to be density function then sum of all probablities is equal to 1 \n",
    "Since it is a continious random variable integer value is 1 overall sampe space s.\n",
    "K * |x^4| /4 1\n",
    "k = 4/81\n",
    "The value of P (1<x<2) =k *[x^4]= \n",
    "\n",
    "\n",
    "\n"
   ]
  },
  {
   "cell_type": "code",
   "execution_count": null,
   "metadata": {},
   "outputs": [],
   "source": [
    "In the world of statistics the very first thing to be done before any estimation is to create a sample set from the \n",
    "entire population set. The population set can be seen as the entire treefrom when data is collected whereas\n",
    "the sample set can be seen as the branch in which the actual study of observatio and estimation is done. Population\n",
    "tree is a very large and making the study of observation "
   ]
  },
  {
   "cell_type": "code",
   "execution_count": null,
   "metadata": {},
   "outputs": [],
   "source": [
    "1. Identifying in the population set\n",
    "2. Determination of the size of our sample set\n",
    "3. Providing a medium for the basis of selection of sample from the populaton medium \n",
    "4. Picking out samples from the medium using one of \n",
    "many samping technique like simple random , systematic  or stratified sampling\n",
    "5. Checking whether the formed sample set, contains elements actually matches t\n",
    "he diffent attributes of population set, without large variations in between.\n",
    "6. Checking for errors or in accurate estimations in formed sample set, that many or may not have occured.\n",
    "7. The set which we get after performing the above steps actually contributes to the sample set/\n",
    "\n",
    "\n",
    "Pupulation is the whole sett of variable elements entities which are considered for statistical study. It is also \n",
    "It also known as the universal set from where actual interfaces are drawn. Population set consists of all the attributes \n",
    "of indivisuals or elements under consideration but doing estimation on a population is very exhausting resources as well as timewise\n",
    "alike.\n",
    "Consider the meain weight of all men on earth. This here is considered a hypothetical population because it \n",
    "includes all men that have ever lived earlier before us. But there are comes an anomaly while doing such measurement\n",
    "which is not all men in the populatio tray are observable (consider men who will exist in the future and also men in the\n",
    "                                                           who ahas lived begore doest not exist right now)\n",
    "\n",
    "also  performing statistics on the population sample (if hypothetically possible)\n",
    "would require a greaty deal of time as well as resources which will exhaustive and inefficient as well\n",
    "\n",
    "\n",
    "\n",
    "\n",
    "Thus what is perform instead is to take a subset from the available population and perform statistics on them\n",
    "and interpolate inferences about the entire population. Taing out a subset.\n",
    "makes the task easier  as the time required to scrutinize the subset is lesser than the time required to scrutinize\n",
    "the whole set of population.\n",
    "Statistics isps performed on the sample set to draw conclusion about the entire population tray.\n",
    "Calculations are considered to be  conclusion of the population set because it does not measure with the actual data\n",
    "of the population set and is not free from erros.\n",
    "This is obious as sample set is used as. a medium frame having fewermembers and thus some information is lost.\n",
    "Sampling Frame : is the basis of sample medium. It is collection of all sample elements taken into observatio. sometime it \n",
    "    might even happen that all elements taken into observation.   \n"
   ]
  },
  {
   "cell_type": "code",
   "execution_count": null,
   "metadata": {},
   "outputs": [],
   "source": [
    "Systematic Sampling: Systematic sampling is also known as the type of probablity sampling. It is much more accurate than\n",
    "    Simple Random sampling/ and also the standard error formation percentaage is very low but not error free.\n",
    "    In this method firs t the population tray element are arranged based on a specific order..or scheme properly known as being sorted. \n",
    "    it can be  of any order which totally depends upon the person performing the statistics. Theelement\n",
    "    are first arranged either ascendinglexicgraphy  any other known methods deemed fit by\n",
    "    the teser. Although the start point needs to be random everytime. after being arranged then sample\n",
    "    element are picked based on a pre defined interval set or function.\n",
    "    Example: In a random set of. numbers with elements ranging from 1 to 100. Themments  first ed ither in ascending or descending \n",
    "        \n",
    "        order. Then lets say every4 th element is picked to be part od sampleing frame .This king od sampling is known as \n",
    "        systematic sampling.\n",
    "        every 4th element is a sample "
   ]
  },
  {
   "cell_type": "code",
   "execution_count": null,
   "metadata": {},
   "outputs": [],
   "source": [
    "Stratified Sampling: Stratified sampling is the most complex type sampling method out of all three methods\n",
    "    mentioned above. It is a hybrid method concerning both simple random sampling as systematic sampling.\n",
    "    It is one of the most advanced types of sampling\n",
    "    methodds avaiaalble providing near accurate results to. the testeer in this method the population tray is divided into sub segments alsko k\n",
    "    known as stratum singular.Each stratu can have their own unique property.\n",
    "    After being divided into diffrent sub stratum , SRS or \n",
    "    Systematics sampling can be used to create and pic k out samples for performing statisticas .\n",
    "    The elemenary methord samplngare\n",
    "    \n",
    "    "
   ]
  },
  {
   "cell_type": "code",
   "execution_count": null,
   "metadata": {},
   "outputs": [],
   "source": [
    "Randomized Algorithm\n",
    "\n",
    "MAXIMIZE STRING PARTITION\n",
    "Given a string, the task is to find the maximum number P such that the given string can be partitioned into P\n",
    "contigious substrings that any two adjacent substring must be diffrent. More formally\n",
    "S=S1S2S3S4S5.....Si and Sinot equal to Si+1 \n",
    "input str =\"aabccd\"\n",
    "output 4\n",
    "Explanation\n",
    "We can divied the given string into forur string like a ,ab, c, cd\n",
    "we cannot divide it mre than forur pars \n",
    " if we do then the condition\n",
    "    Si not equals to Si+1 \n",
    "    willn not satisfy\n",
    "    \n",
    "    input string =aaaa\n",
    "    output is 3\n",
    "    \n"
   ]
  },
  {
   "cell_type": "code",
   "execution_count": 7,
   "metadata": {},
   "outputs": [
    {
     "name": "stdout",
     "output_type": "stream",
     "text": [
      "6\n"
     ]
    }
   ],
   "source": [
    "def maxPartition(s):\n",
    "    n=len(s) #11 character of sourabh.\n",
    "    P=0\n",
    "    current=\"\"\n",
    "    previous=\"\" #precious is blank.\n",
    "    for i in range(n):\n",
    "        current+=s[i] #appending this s. #si is sourab. \"\" + s then s + 0 , then s+u\n",
    "        if(current != previous):\n",
    "            previous=current\n",
    "            current=\"\"\n",
    "            P+=1\n",
    "    return P\n",
    "s=\"william\"\n",
    "ans=maxPartition(s)\n",
    "print(ans)\n",
    "    \n",
    "            "
   ]
  },
  {
   "cell_type": "code",
   "execution_count": null,
   "metadata": {},
   "outputs": [],
   "source": [
    "Tower of hanoi is a mathematical puzzle where we have three rods and n disks . the objective of the puzzle is to move the entire stack \n",
    "to another rod, obeying the following simple rules\n",
    "1. Onyl one disk can be moved at a time\n",
    "Each move consists of taking the upper disk from  one of the stack and placing it on top of another stack i.e. disk \n",
    "can only be moved if it is the upper most dis on a stack\n",
    "no disk may placed on top of smaller disk.."
   ]
  },
  {
   "cell_type": "code",
   "execution_count": 4,
   "metadata": {},
   "outputs": [
    {
     "name": "stdout",
     "output_type": "stream",
     "text": [
      "Move disk 1 from rod A to_rod C\n",
      "Move disk  2  from rod A to_rod B\n",
      "Move disk 1 from rod C to_rod B\n",
      "Move disk  3  from rod A to_rod C\n",
      "Move disk 1 from rod B to_rod A\n",
      "Move disk  2  from rod B to_rod C\n",
      "Move disk 1 from rod A to_rod C\n",
      "Move disk  4  from rod A to_rod B\n",
      "Move disk 1 from rod C to_rod B\n",
      "Move disk  2  from rod C to_rod A\n",
      "Move disk 1 from rod B to_rod A\n",
      "Move disk  3  from rod C to_rod B\n",
      "Move disk 1 from rod A to_rod C\n",
      "Move disk  2  from rod A to_rod B\n",
      "Move disk 1 from rod C to_rod B\n"
     ]
    }
   ],
   "source": [
    "def TowerOfHanoi(n,from_rod,to_rod,aux_rod):\n",
    "    if n==1: # n = 4. but actually 3 because of line number 5. when n becomes 1 then line 6 works. \n",
    "        print(\"Move disk 1 from rod\",from_rod,\"to_rod\",to_rod)\n",
    "        return\n",
    "    TowerOfHanoi(n-1,from_rod,aux_rod,to_rod) #move disk. -n-1 to 1 goes to line 2. \n",
    "    #at line 5 3rd the 2nd rod and \n",
    "    #2nd rod becomes 3rd rod. minus 1 again before it goes back to 1. \n",
    "    print(\"Move disk \",n,\" from rod\",from_rod,\"to_rod\",to_rod)\n",
    "    #from rod is a from line 5, to rod is c from line 5. in our print statement \n",
    "    #a- c will be line 8/5. but in a to b is going to be line 1/5. \n",
    "    TowerOfHanoi(n-1,aux_rod,to_rod,from_rod) #aux rod to from rod. C to B and C to A. 1-1 = 0 \n",
    "\n",
    "n=4\n",
    "TowerOfHanoi(n,'A','B','C') #start here, \n",
    "\n",
    "#when n becomes 1. then 6 prints. and it is aphering to 5. \n",
    "#from rod a, two rod is b and artirelly is c \n",
    "#go up 1 now since n is not 1 we are printing out from line 1 and 8. AB\n",
    "\n"
   ]
  },
  {
   "cell_type": "code",
   "execution_count": null,
   "metadata": {},
   "outputs": [],
   "source": [
    "A gular expression is a special sequenes of character that helps you match or find other strings set of strings using a \n",
    "specialized syntax held in a pattern. Regular expression are widely used in UNIX.\n",
    "The module re provides full support for perl like regular expression n python. the re module raise the exception re error if \n",
    "an error if an error occurs while  compiling  or using a regular expression.\n",
    "we would cover two important functions, which be used to handle regular expression.\n",
    "We would cover two important functions , which would be used to handle regular expression. but a small thing first /There are various\n",
    "character  whhich would have special meaning"
   ]
  },
  {
   "cell_type": "code",
   "execution_count": 6,
   "metadata": {},
   "outputs": [
    {
     "name": "stdout",
     "output_type": "stream",
     "text": [
      "matchObj.group() Cats are smarter than dogs\n",
      "matchObj.group(1) Cats\n",
      "matchObj.group(2) smarter\n"
     ]
    }
   ],
   "source": [
    "import re\n",
    "line = \"Cats are smarter than dogs\"\n",
    "matchObj = re.match(r'(.*) are (.*?) .*',line,re.M|re.I) #can be anything of one character. match is matching a \n",
    "#pattern in a string. finds hout how many are are in a string. r is regular expression. method to find out \n",
    "#a pattern in given string. \n",
    "if matchObj:\n",
    "    print(\"matchObj.group()\",matchObj.group())\n",
    "    print(\"matchObj.group(1)\",matchObj.group(1)) #one character because of /.*? previous to r or next to r\n",
    "    #that is shorter. \n",
    "    print(\"matchObj.group(2)\",matchObj.group(2)) #.* next to r whcih is longer \n",
    "else:\n",
    "    print(\"No match!!\")"
   ]
  },
  {
   "cell_type": "code",
   "execution_count": 32,
   "metadata": {},
   "outputs": [
    {
     "name": "stdout",
     "output_type": "stream",
     "text": [
      "Phone no is  ['1646894684', '1235468111']\n"
     ]
    }
   ],
   "source": [
    "mytext=\"Trump is not good president but his mobile no is 16468946849.I love india my friends mobile no is 1235468111\"\n",
    "reg = re.compile(\"\\d{3}\\d{3}\\d{4}\") #compile check if the pattern is correct or not. \n",
    "num = re.findall(reg,mytext) #findall, find all the text which matches the pattern. find all mobile numbers. \n",
    "print(\"Phone no is \",(num))\n"
   ]
  },
  {
   "cell_type": "code",
   "execution_count": 45,
   "metadata": {},
   "outputs": [
    {
     "name": "stdout",
     "output_type": "stream",
     "text": [
      "Phone no is  ['mobile', 'mobile']\n"
     ]
    }
   ],
   "source": [
    "mytext=\"Trump is not good president but his mobile no is 16468946849.I love india my friends mobile no is 1235468111\"\n",
    "reg = re.compile(\"mobile\")\n",
    "num = re.findall(reg,mytext)\n",
    "print(\"Phone no is \",(num))"
   ]
  },
  {
   "cell_type": "code",
   "execution_count": null,
   "metadata": {},
   "outputs": [],
   "source": [
    "\\d denotes the  digit\n",
    "\\d[1,5] it will declare digit between 1,5 like 424,4444,545"
   ]
  },
  {
   "cell_type": "code",
   "execution_count": 2,
   "metadata": {},
   "outputs": [
    {
     "name": "stdout",
     "output_type": "stream",
     "text": [
      "Phone no is  ['35', '81', '11']\n"
     ]
    }
   ],
   "source": [
    "import re\n",
    "mytext=\"Trump is not good president but his mobile no is 16468946849.I love india my friends mobile no is 1235468111\"\n",
    "reg = re.compile(\"\\d[1,5]\")\n",
    "num = re.findall(reg,mytext)\n",
    "print(\"Phone no is \",(num))"
   ]
  },
  {
   "cell_type": "code",
   "execution_count": 3,
   "metadata": {},
   "outputs": [
    {
     "name": "stdout",
     "output_type": "stream",
     "text": [
      "Phone no is  ['T', 'r', 'u', 'm', 'p', ' ', 'i', 's', ' ', 'n', 'o', 't', ' ', 'g', 'o', 'o', 'd', ' ', 'p', 'r', 'e', 's', 'i', 'd', 'e', 'n', 't', ' ', 'b', 'u', 't', ' ', 'h', 'i', 's', ' ', 'm', 'o', 'b', 'i', 'l', 'e', ' ', 'n', 'o', ' ', 'i', 's', ' ', '.', 'I', ' ', 'l', 'o', 'v', 'e', ' ', 'i', 'n', 'd', 'i', 'a', ' ', 'm', 'y', ' ', 'f', 'r', 'i', 'e', 'n', 'd', 's', ' ', 'm', 'o', 'b', 'i', 'l', 'e', ' ', 'n', 'o', ' ', 'i', 's', ' ']\n"
     ]
    }
   ],
   "source": [
    "mytext=\"Trump is not good president but his mobile no is 16468946849.I love india my friends mobile no is 1235468111\"\n",
    "reg = re.compile(\"\\D\")\n",
    "num = re.findall(reg,mytext)\n",
    "print(\"Phone no is \",(num))"
   ]
  },
  {
   "cell_type": "code",
   "execution_count": 4,
   "metadata": {},
   "outputs": [
    {
     "name": "stdout",
     "output_type": "stream",
     "text": [
      "Phone no is  [' ', ' ', ' ', ' ', ' ', ' ', ' ', ' ', ' ', ' ', ' ', ' ', ' ', ' ', ' ', ' ', ' ', ' ']\n"
     ]
    }
   ],
   "source": [
    "mytext=\"Trump is not good president but his mobile no is 16468946849.I love india my friends mobile no is 1235468111\"\n",
    "reg = re.compile(\"\\s\") #gives you all the spaces \n",
    "num = re.findall(reg,mytext)\n",
    "print(\"Phone no is \",(num))"
   ]
  },
  {
   "cell_type": "code",
   "execution_count": 5,
   "metadata": {},
   "outputs": [
    {
     "name": "stdout",
     "output_type": "stream",
     "text": [
      "Phone no is  ['1', '6', '4', '6', '8', '9', '4', '6', '8', '4', '9', '1', '2', '3', '5', '4', '6', '8', '1', '1', '1']\n"
     ]
    }
   ],
   "source": [
    "mytext=\"Trump is not good president but his mobile no is 16468946849.I love india my friends mobile no is 1235468111\"\n",
    "reg = re.compile(\"\\d\") #gives you all the number \n",
    "num = re.findall(reg,mytext)\n",
    "print(\"Phone no is \",(num))"
   ]
  },
  {
   "cell_type": "code",
   "execution_count": 6,
   "metadata": {},
   "outputs": [
    {
     "name": "stdout",
     "output_type": "stream",
     "text": [
      "Phone no is  ['T', 'r', 'u', 'm', 'p', 'i', 's', 'n', 'o', 't', 'g', 'o', 'o', 'd', 'p', 'r', 'e', 's', 'i', 'd', 'e', 'n', 't', 'b', 'u', 't', 'h', 'i', 's', 'm', 'o', 'b', 'i', 'l', 'e', 'n', 'o', 'i', 's', '1', '6', '4', '6', '8', '9', '4', '6', '8', '4', '9', 'I', 'l', 'o', 'v', 'e', 'i', 'n', 'd', 'i', 'a', 'm', 'y', 'f', 'r', 'i', 'e', 'n', 'd', 's', 'm', 'o', 'b', 'i', 'l', 'e', 'n', 'o', 'i', 's', '1', '2', '3', '5', '4', '6', '8', '1', '1', '1']\n"
     ]
    }
   ],
   "source": [
    "mytext=\"Trump is not good president but his mobile no is 16468946849.I love india my friends mobile no is 1235468111\"\n",
    "reg = re.compile(\"\\w\") #gives you all the everything. all characters\n",
    "num = re.findall(reg,mytext)\n",
    "print(\"Phone no is \",(num))"
   ]
  },
  {
   "cell_type": "code",
   "execution_count": 8,
   "metadata": {},
   "outputs": [
    {
     "name": "stdout",
     "output_type": "stream",
     "text": [
      "Phone no is  ['Trump']\n"
     ]
    }
   ],
   "source": [
    "mytext=\"Trump is not good president but his mobile no is 16468946849.I love india my friends mobile no is 1235468111\"\n",
    "reg = re.compile(\"^\\w+\") #gives you all the first number \n",
    "num = re.findall(reg,mytext)\n",
    "print(\"Phone no is \",(num))"
   ]
  },
  {
   "cell_type": "code",
   "execution_count": 10,
   "metadata": {},
   "outputs": [
    {
     "name": "stdout",
     "output_type": "stream",
     "text": [
      "Phone no is  ['1235468111']\n"
     ]
    }
   ],
   "source": [
    "mytext=\"Trump is not good president but his mobile no is 16468946849.I love india my friends mobile no is 1235468111\"\n",
    "reg = re.compile(\"\\w+$\") #gives you last number\n",
    "num = re.findall(reg,mytext)\n",
    "print(\"Phone no is \",(num))"
   ]
  },
  {
   "cell_type": "code",
   "execution_count": null,
   "metadata": {},
   "outputs": [],
   "source": [
    "[0-9]\n",
    "[ˆ0-9]// no digits\n"
   ]
  },
  {
   "cell_type": "code",
   "execution_count": 13,
   "metadata": {},
   "outputs": [
    {
     "name": "stdout",
     "output_type": "stream",
     "text": [
      "Phone no is  ['1', '6', '4', '6', '8', '9', '4', '6', '8', '4', '9', '1', '2', '3', '5', '4', '6', '8', '1', '1', '1']\n"
     ]
    }
   ],
   "source": [
    "mytext=\"Trump is not good president but his mobile no is 16468946849.I love india my friends mobile no is 1235468111\"\n",
    "reg = re.compile(\"[0-9]\") #gives you last number #agives you all integer \n",
    "num = re.findall(reg,mytext)\n",
    "print(\"Phone no is \",(num))"
   ]
  },
  {
   "cell_type": "code",
   "execution_count": 16,
   "metadata": {},
   "outputs": [
    {
     "name": "stdout",
     "output_type": "stream",
     "text": [
      "Phone no is  ['n', 'n', 'n', 'n', 'n', 'n']\n"
     ]
    }
   ],
   "source": [
    "mytext=\"Trump is not good president but his mobile no is 16468946849.I love india my friends mobile no is 1235468111\"\n",
    "reg = re.compile(\"n+\") #gives you string that has one n. at least one n. \n",
    "num = re.findall(reg,mytext)\n",
    "print(\"Phone no is \",(num))"
   ]
  },
  {
   "cell_type": "code",
   "execution_count": 17,
   "metadata": {},
   "outputs": [
    {
     "name": "stdout",
     "output_type": "stream",
     "text": [
      "Phone no is  ['', '', '', '', '', '', '', '', '', 'n', '', '', '', '', '', '', '', '', '', '', '', '', '', '', '', 'n', '', '', '', '', '', '', '', '', '', '', '', '', '', '', '', '', '', 'n', '', '', '', '', '', '', '', '', '', '', '', '', '', '', '', '', '', '', '', '', '', '', '', '', '', 'n', '', '', '', '', '', '', '', '', '', '', '', 'n', '', '', '', '', '', '', '', '', '', '', 'n', '', '', '', '', '', '', '', '', '', '', '', '', '', '', '', '']\n"
     ]
    }
   ],
   "source": [
    "mytext=\"Trump is not good president but his mobile no is 16468946849.I love india my friends mobile no is 1235468111\"\n",
    "reg = re.compile(\"n*\") #gives you last number\n",
    "num = re.findall(reg,mytext)\n",
    "print(\"Phone no is \",(num))"
   ]
  },
  {
   "cell_type": "code",
   "execution_count": 26,
   "metadata": {},
   "outputs": [
    {
     "name": "stdout",
     "output_type": "stream",
     "text": [
      "Phone no is  ['oo']\n"
     ]
    }
   ],
   "source": [
    "mytext=\"Trump is not good president but his mobile no is 16468946849.I love india my friends mobile no is 1235468111\"\n",
    "reg = re.compile(\"o{2}\") #gives you last number\n",
    "num = re.findall(reg,mytext)\n",
    "print(\"Phone no is \",(num))"
   ]
  },
  {
   "cell_type": "code",
   "execution_count": 25,
   "metadata": {},
   "outputs": [
    {
     "name": "stdout",
     "output_type": "stream",
     "text": [
      "Phone no is  ['o', 'oo', 'o', 'o', 'oo', 'o', 'o', 'o']\n"
     ]
    }
   ],
   "source": [
    "mytext=\"Trump is not good president but his mobile no is 16468946849.I looove india my friends mobile no is 1235468111\"\n",
    "reg = re.compile(\"o{1,2}\") #gives you last number\n",
    "num = re.findall(reg,mytext)\n",
    "print(\"Phone no is \",(num))"
   ]
  },
  {
   "cell_type": "code",
   "execution_count": 24,
   "metadata": {},
   "outputs": [
    {
     "name": "stdout",
     "output_type": "stream",
     "text": [
      "Phone no is  ['o', 'oo', 'o', 'o', 'ooo', 'o', 'o']\n"
     ]
    }
   ],
   "source": [
    "mytext=\"Trump is not good president but his mobile no is 16468946849.I looove india my friends mobile no is 1235468111\"\n",
    "reg = re.compile(\"o{1,}\") #gives you last number. at least one or more.\n",
    "num = re.findall(reg,mytext)\n",
    "print(\"Phone no is \",(num))"
   ]
  },
  {
   "cell_type": "code",
   "execution_count": 32,
   "metadata": {},
   "outputs": [
    {
     "name": "stdout",
     "output_type": "stream",
     "text": [
      "Phone no is  []\n"
     ]
    }
   ],
   "source": [
    "mytext=\"Trump is not good president but his mobile no is 16468946849.I love india my friends mobile no is 1235468111\"\n",
    "reg = re.compile(\".*e$\") #gives you end which contains e \n",
    "num = re.findall(reg,mytext)\n",
    "print(\"Phone no is \",(num))"
   ]
  },
  {
   "cell_type": "code",
   "execution_count": 41,
   "metadata": {},
   "outputs": [
    {
     "name": "stdout",
     "output_type": "stream",
     "text": [
      "Phone no is  ['n']\n"
     ]
    }
   ],
   "source": [
    "mytext=\"Trump is not good president but his mobile no is 16468946849.I love india my friends mobile no is 1235468111\"\n",
    "reg = re.compile(\"(n).*\") #gives you n the word starting with n. \n",
    "num = re.findall(reg,mytext)\n",
    "print(\"Phone no is \",(num))"
   ]
  },
  {
   "cell_type": "code",
   "execution_count": 59,
   "metadata": {},
   "outputs": [
    {
     "name": "stdout",
     "output_type": "stream",
     "text": [
      "1\n",
      "2\n",
      "3\n",
      "4\n",
      "5\n",
      "0\n",
      "None\n",
      "None\n"
     ]
    }
   ],
   "source": [
    "import re\n",
    "def is_allowed_specific_char(string):\n",
    "    charRe = re.compile(r'[0-9]') #^ will give you true \n",
    "    string = charRe.findall(string) #findall the numbers of number \n",
    "    for x in string:\n",
    "        print(x)\n",
    "    #return not bool(string)\n",
    "\n",
    "print(is_allowed_specific_char(\"ABCDEFabcdef123450\")) \n",
    "print(is_allowed_specific_char(\"*&%@#!}{\")) #none is if you cant find it."
   ]
  },
  {
   "cell_type": "code",
   "execution_count": 60,
   "metadata": {},
   "outputs": [
    {
     "name": "stdout",
     "output_type": "stream",
     "text": [
      "Found a match!\n",
      "Found a match!\n",
      "Found a match!\n"
     ]
    }
   ],
   "source": [
    "import re\n",
    "def text_match(text):\n",
    "        patterns = 'ab*?' #* any string starting with a. followed by 0 and more occurences of b. and then follow\n",
    "        #by any character. * is wild card. \n",
    "        if re.search(patterns,  text):\n",
    "                return 'Found a match!' \n",
    "        else:\n",
    "                return('Not matched!')\n",
    "\n",
    "print(text_match(\"ac\")) #0 or more occurence of b. \n",
    "print(text_match(\"abc\"))\n",
    "print(text_match(\"abbc\"))\n",
    "#abb is true, has a b inside and character following it. \n",
    "#abbbc is true because the same thing. \n",
    "#a alone is false. \n",
    "#* 0 or more occurences "
   ]
  },
  {
   "cell_type": "code",
   "execution_count": 63,
   "metadata": {},
   "outputs": [
    {
     "name": "stdout",
     "output_type": "stream",
     "text": [
      "Found a match!\n",
      "Found a match!\n",
      "Not matched!\n",
      "Not matched!\n"
     ]
    }
   ],
   "source": [
    "import re\n",
    "def text_match(text):\n",
    "        patterns = 'ab+?'\n",
    "        if re.search(patterns,  text):\n",
    "                return 'Found a match!'\n",
    "        else:\n",
    "                return('Not matched!')\n",
    "\n",
    "print(text_match(\"ab\"))\n",
    "print(text_match(\"abc\"))\n",
    "print(text_match(\"ac\"))\n",
    "print(text_match(\"acb\"))\n",
    "\n"
   ]
  },
  {
   "cell_type": "code",
   "execution_count": 64,
   "metadata": {},
   "outputs": [
    {
     "name": "stdout",
     "output_type": "stream",
     "text": [
      "Found a match!\n",
      "Found a match!\n",
      "Found a match!\n",
      "Found a match!\n"
     ]
    }
   ],
   "source": [
    "import re\n",
    "def text_match(text):\n",
    "        patterns = 'ab?'\n",
    "        if re.search(patterns,  text):\n",
    "                return 'Found a match!'\n",
    "        else:\n",
    "                return('Not matched!')\n",
    "\n",
    "print(text_match(\"ab\"))\n",
    "print(text_match(\"abc\"))\n",
    "print(text_match(\"abbc\"))\n",
    "print(text_match(\"aabbc\"))\n"
   ]
  },
  {
   "cell_type": "code",
   "execution_count": 66,
   "metadata": {},
   "outputs": [
    {
     "name": "stdout",
     "output_type": "stream",
     "text": [
      "Found a match!\n",
      "Found a match!\n",
      "Not matched!\n",
      "Not matched!\n",
      "Not matched!\n",
      "Not matched!\n"
     ]
    }
   ],
   "source": [
    "import re\n",
    "def text_match(text):\n",
    "        patterns = 'ab{3}?'\n",
    "        if re.search(patterns,  text):\n",
    "                return 'Found a match!'\n",
    "        else:\n",
    "                return('Not matched!')\n",
    "\n",
    "print(text_match(\"abbb\"))\n",
    "print(text_match(\"aabbbbbc\"))\n",
    "print(text_match(\"ab\"))\n",
    "print(text_match(\"abc\"))\n",
    "print(text_match(\"abbc\"))\n",
    "print(text_match(\"aabbc\"))\n",
    "#need 3 b "
   ]
  },
  {
   "cell_type": "code",
   "execution_count": 67,
   "metadata": {},
   "outputs": [
    {
     "name": "stdout",
     "output_type": "stream",
     "text": [
      "Found a match!\n",
      "Not matched!\n",
      "Not matched!\n"
     ]
    }
   ],
   "source": [
    "import re\n",
    "def text_match(text):\n",
    "        patterns = '^[a-z]+_[a-z]+$'\n",
    "        if re.search(patterns,  text):\n",
    "                return 'Found a match!'\n",
    "        else:\n",
    "                return('Not matched!')\n",
    "\n",
    "print(text_match(\"aab_cbbbc\"))\n",
    "print(text_match(\"aab_Abbbc\"))\n",
    "print(text_match(\"Aaab_abbbc\"))\n",
    "#only works for small letters"
   ]
  },
  {
   "cell_type": "code",
   "execution_count": 69,
   "metadata": {},
   "outputs": [
    {
     "name": "stdout",
     "output_type": "stream",
     "text": [
      "Not matched!\n",
      "Found a match!\n",
      "Found a match!\n"
     ]
    }
   ],
   "source": [
    "import re\n",
    "def text_match(text):\n",
    "        patterns = '^[a-z]+_[a-z]+$'\n",
    "        if not re.search(patterns,  text):\n",
    "                return 'Found a match!'\n",
    "        else:\n",
    "                return('Not matched!')\n",
    "\n",
    "print(text_match(\"aab_cbbbc\"))\n",
    "print(text_match(\"aab_Abbbc\"))\n",
    "print(text_match(\"Aaab_abbbc\"))"
   ]
  },
  {
   "cell_type": "code",
   "execution_count": 70,
   "metadata": {},
   "outputs": [
    {
     "name": "stdout",
     "output_type": "stream",
     "text": [
      "Not matched!\n",
      "Not matched!\n",
      "Found a match!\n"
     ]
    }
   ],
   "source": [
    "import re\n",
    "def text_match(text):\n",
    "        patterns = 'a.*?b$' #a then any number and then b at end\n",
    "        if re.search(patterns,  text):\n",
    "                return 'Found a match!'\n",
    "        else:\n",
    "                return('Not matched!')\n",
    "\n",
    "print(text_match(\"aabbbbd\"))\n",
    "print(text_match(\"aabAbbbc\"))\n",
    "print(text_match(\"accddbbjjjb\"))\n"
   ]
  },
  {
   "cell_type": "code",
   "execution_count": 71,
   "metadata": {},
   "outputs": [
    {
     "name": "stdout",
     "output_type": "stream",
     "text": [
      "Found a match!\n",
      "Not matched!\n"
     ]
    }
   ],
   "source": [
    "import re\n",
    "def text_match(text):\n",
    "        patterns = '^\\w+'\n",
    "        if re.search(patterns,  text):\n",
    "                return 'Found a match!'\n",
    "        else:\n",
    "                return('Not matched!')\n",
    "\n",
    "print(text_match(\"The quick brown fox jumps over the lazy dog.\"))\n",
    "print(text_match(\" The quick brown fox jumps over the lazy dog.\"))"
   ]
  },
  {
   "cell_type": "code",
   "execution_count": 72,
   "metadata": {},
   "outputs": [
    {
     "name": "stdout",
     "output_type": "stream",
     "text": [
      "Found a match!\n",
      "Not matched!\n"
     ]
    }
   ],
   "source": [
    "import re\n",
    "def text_match(text):\n",
    "        patterns = '^\\w+' #we check for strings at the beginning, there is no string. \n",
    "        if re.search(patterns,  text):\n",
    "                return 'Found a match!'\n",
    "        else:\n",
    "                return('Not matched!')\n",
    "\n",
    "print(text_match(\"The quick brown fox jumps over the lazy dog.\"))\n",
    "print(text_match(\" The quick brown fox jumps over the lazy dog.\"))"
   ]
  },
  {
   "cell_type": "code",
   "execution_count": 73,
   "metadata": {},
   "outputs": [
    {
     "name": "stdout",
     "output_type": "stream",
     "text": [
      "Found a match!\n",
      "Not matched!\n",
      "Not matched!\n"
     ]
    }
   ],
   "source": [
    "\n",
    "import re\n",
    "def text_match(text):\n",
    "        patterns = '\\w+\\S*$' #space after each word. \n",
    "        if re.search(patterns,  text):\n",
    "                return 'Found a match!'\n",
    "        else:\n",
    "                return('Not matched!')\n",
    "\n",
    "print(text_match(\"The quick brown fox jumps over the lazy dog.\"))\n",
    "print(text_match(\"The quick brown fox jumps over the lazy dog. \"))\n",
    "print(text_match(\"The quick brown fox jumps over the lazy dog \"))"
   ]
  },
  {
   "cell_type": "code",
   "execution_count": 74,
   "metadata": {},
   "outputs": [
    {
     "name": "stdout",
     "output_type": "stream",
     "text": [
      "Found a match!\n",
      "Not matched!\n"
     ]
    }
   ],
   "source": [
    "import re\n",
    "def text_match(text):\n",
    "        patterns = '\\w*z.\\w*'\n",
    "        if re.search(patterns,  text):\n",
    "                return 'Found a match!'\n",
    "        else:\n",
    "                return('Not matched!')\n",
    "\n",
    "print(text_match(\"The quick brown fox jumps over the lazy dog.\"))\n",
    "print(text_match(\"Python Exercises.\"))"
   ]
  },
  {
   "cell_type": "code",
   "execution_count": 75,
   "metadata": {},
   "outputs": [
    {
     "name": "stdout",
     "output_type": "stream",
     "text": [
      "Found a match!\n",
      "Not matched!\n"
     ]
    }
   ],
   "source": [
    "import re\n",
    "def text_match(text):\n",
    "        patterns = '\\w*z.\\w*'  #need to contain a z. \n",
    "        if re.search(patterns,  text):\n",
    "                return 'Found a match!'\n",
    "        else:\n",
    "                return('Not matched!')\n",
    "\n",
    "print(text_match(\"The quick brown fox jumps over the lazy dog.\"))\n",
    "print(text_match(\"Python Exercises.\"))"
   ]
  },
  {
   "cell_type": "code",
   "execution_count": 76,
   "metadata": {},
   "outputs": [
    {
     "name": "stdout",
     "output_type": "stream",
     "text": [
      "Found a match!\n",
      "Not matched!\n"
     ]
    }
   ],
   "source": [
    "import re\n",
    "def text_match(text):\n",
    "        patterns = '\\Bz\\B'\n",
    "        if re.search(patterns,  text):\n",
    "                return 'Found a match!'\n",
    "        else:\n",
    "                return('Not matched!')\n",
    "\n",
    "print(text_match(\"The quick brown fox jumps over the lazy dog.\"))\n",
    "print(text_match(\"Python Exercises.\"))"
   ]
  },
  {
   "cell_type": "code",
   "execution_count": 79,
   "metadata": {},
   "outputs": [
    {
     "name": "stdout",
     "output_type": "stream",
     "text": [
      "Found a match!\n",
      "Found a match!\n"
     ]
    }
   ],
   "source": [
    "import re\n",
    "def text_match(text):\n",
    "        patterns = '^[a-zA-Z0-9_\\s.]*$' #a-z is fine. A-Z as captial is fine as well. 0-9 as digits are fine.\n",
    "        #_ underline is fine. and space is fine \n",
    "        if re.search(patterns,  text):\n",
    "                return 'Found a match!'\n",
    "        else:\n",
    "                return('Not matched!')\n",
    "\n",
    "print(text_match(\"The quick brown fox jumps over the lazy dog.\"))\n",
    "print(text_match(\"Python_Exercises_1\"))"
   ]
  },
  {
   "cell_type": "code",
   "execution_count": 80,
   "metadata": {},
   "outputs": [
    {
     "name": "stdout",
     "output_type": "stream",
     "text": [
      "True\n",
      "False\n"
     ]
    }
   ],
   "source": [
    "import re\n",
    "def match_num(string):\n",
    "    text = re.compile(r\"^5\") #^ to the power sign aka cap of 5. starting character has to be 5. \n",
    "    if text.match(string):\n",
    "        return True\n",
    "    else:\n",
    "        return False\n",
    "print(match_num('5-2345861'))\n",
    "print(match_num('6-2345861'))"
   ]
  },
  {
   "cell_type": "code",
   "execution_count": 83,
   "metadata": {},
   "outputs": [
    {
     "name": "stdout",
     "output_type": "stream",
     "text": [
      "216.8.94.196\n"
     ]
    }
   ],
   "source": [
    "import re\n",
    "ip = \"216.08.094.196\"\n",
    "string = re.sub('\\.[0]*', '.', ip) #contains .0 twice. replace .0 with dot. we are deleting here. /. look for \n",
    "#the dot. dot is special in python. /. to treat it as a regular dot. replace the zero with '.'\n",
    "print(string)"
   ]
  },
  {
   "cell_type": "code",
   "execution_count": 84,
   "metadata": {},
   "outputs": [
    {
     "name": "stdout",
     "output_type": "stream",
     "text": [
      "False\n",
      "True\n"
     ]
    }
   ],
   "source": [
    "import re\n",
    "def end_num(string):\n",
    "    text = re.compile(r\".*[0-9]$\")\n",
    "    if text.match(string):\n",
    "        return True\n",
    "    else:\n",
    "        return False\n",
    "\n",
    "print(end_num('abcdef'))\n",
    "print(end_num('abcdef6'))"
   ]
  },
  {
   "cell_type": "code",
   "execution_count": 88,
   "metadata": {},
   "outputs": [
    {
     "name": "stdout",
     "output_type": "stream",
     "text": [
      "Number of length 1 to 3\n",
      "1\n",
      "12\n",
      "13\n",
      "100\n",
      "0\n",
      "345\n"
     ]
    }
   ],
   "source": [
    "import re\n",
    "results = re.finditer(r\"([0-9]{1,3})\", \"Exercises number 1, 12, 13,1000, and 345 are important\")\n",
    "print(\"Number of length 1 to 3\")\n",
    "for n in results:\n",
    "     print(n.group(0))\n",
    "        \n",
    "        #1000 is 4 numbers. doesnt work. "
   ]
  },
  {
   "cell_type": "code",
   "execution_count": 89,
   "metadata": {},
   "outputs": [
    {
     "name": "stdout",
     "output_type": "stream",
     "text": [
      "Searching for \"fox\" in \"The quick brown fox jumps over the lazy dog.\" ->\n",
      "Matched!\n",
      "Searching for \"dog\" in \"The quick brown fox jumps over the lazy dog.\" ->\n",
      "Matched!\n",
      "Searching for \"horse\" in \"The quick brown fox jumps over the lazy dog.\" ->\n",
      "Not Matched!\n"
     ]
    }
   ],
   "source": [
    "import re\n",
    "patterns = [ 'fox', 'dog', 'horse' ]\n",
    "text = 'The quick brown fox jumps over the lazy dog.'\n",
    "for pattern in patterns:\n",
    "    print('Searching for \"%s\" in \"%s\" ->' % (pattern, text),)\n",
    "    if re.search(pattern,  text):\n",
    "        print('Matched!')\n",
    "    else:\n",
    "        print('Not Matched!')\n",
    "        #fox match, dog match, horse does not match. "
   ]
  },
  {
   "cell_type": "code",
   "execution_count": 1,
   "metadata": {},
   "outputs": [
    {
     "name": "stdout",
     "output_type": "stream",
     "text": [
      "Found \"exercises\"\n",
      "Found \"exercises\"\n",
      "Found \"exercises\"\n"
     ]
    }
   ],
   "source": [
    "import re\n",
    "text = 'Python exercises, PHP exercises, C# exercises'\n",
    "pattern = 'exercises'\n",
    "for match in re.findall(pattern, text):\n",
    "    print('Found \"%s\"' % match)"
   ]
  },
  {
   "cell_type": "code",
   "execution_count": 2,
   "metadata": {},
   "outputs": [
    {
     "name": "stdout",
     "output_type": "stream",
     "text": [
      "Found \"exercises\" at 7:16\n",
      "Found \"exercises\" at 22:31\n",
      "Found \"exercises\" at 36:45\n"
     ]
    }
   ],
   "source": [
    "import re\n",
    "text = 'Python exercises, PHP exercises, C# exercises'\n",
    "pattern = 'exercises'\n",
    "for match in re.finditer(pattern, text): #gives you location at 7-16. \n",
    "    s = match.start()\n",
    "    e = match.end()\n",
    "    print('Found \"%s\" at %d:%d' % (text[s:e], s, e))\n",
    "\t"
   ]
  },
  {
   "cell_type": "code",
   "execution_count": 3,
   "metadata": {},
   "outputs": [
    {
     "name": "stdout",
     "output_type": "stream",
     "text": [
      "Python_Exercises\n",
      "Python Exercises\n"
     ]
    }
   ],
   "source": [
    "import re\n",
    "text = 'Python Exercises'\n",
    "text =text.replace (\" \", \"_\")\n",
    "print(text)\n",
    "text =text.replace (\"_\", \" \")\n",
    "print(text)\n",
    "#replace _ with nothing"
   ]
  },
  {
   "cell_type": "code",
   "execution_count": 4,
   "metadata": {},
   "outputs": [
    {
     "name": "stdout",
     "output_type": "stream",
     "text": [
      "[('2016', '09', '02')]\n"
     ]
    }
   ],
   "source": [
    "import re\n",
    "def extract_date(url):\n",
    "        return re.findall(r'/(\\d{4})/(\\d{1,2})/(\\d{1,2})/', url) #find out all the 3 dates. 4 digits and 2 digits\n",
    "url1= \"https://www.washingtonpost.com/news/football-insider/wp/2016/09/02/odell-beckhams-fame-rests-on-one-stupid-little-ball-josh-norman-tells-author/\"\n",
    "print(extract_date(url1))"
   ]
  },
  {
   "cell_type": "code",
   "execution_count": 5,
   "metadata": {},
   "outputs": [
    {
     "name": "stdout",
     "output_type": "stream",
     "text": [
      "Original date in YYY-MM-DD Format:  2026-01-02\n",
      "New date in DD-MM-YYYY Format:  02-01-2026\n"
     ]
    }
   ],
   "source": [
    "import re\n",
    "def change_date_format(dt):\n",
    "        return re.sub(r'(\\d{4})-(\\d{1,2})-(\\d{1,2})', '\\\\3-\\\\2-\\\\1', dt)\n",
    "dt1 = \"2026-01-02\"\n",
    "print(\"Original date in YYY-MM-DD Format: \",dt1)\n",
    "print(\"New date in DD-MM-YYYY Format: \",change_date_format(dt1))\n",
    "#changing the dates."
   ]
  },
  {
   "cell_type": "code",
   "execution_count": 6,
   "metadata": {},
   "outputs": [
    {
     "name": "stdout",
     "output_type": "stream",
     "text": [
      "('Python', 'PHP')\n"
     ]
    }
   ],
   "source": [
    "import re\n",
    "\n",
    "# Sample strings.\n",
    "words = [\"Python PHP\", \"Java JavaScript\", \"c c++\"]\n",
    "\n",
    "for w in words:\n",
    "        m = re.match(\"(P\\w+)\\W(P\\w+)\", w) #word starting with p. two words only.word starting with p. \n",
    "        # Check for success\n",
    "        if m:\n",
    "            print(m.groups())\n",
    "#group is a function to group them together"
   ]
  },
  {
   "cell_type": "code",
   "execution_count": 7,
   "metadata": {},
   "outputs": [
    {
     "name": "stdout",
     "output_type": "stream",
     "text": [
      "\n",
      "10\n",
      "20\n",
      "30\n"
     ]
    }
   ],
   "source": [
    "import re\n",
    "# Sample string.\n",
    "text = \"Ten 10, Twenty 20, Thirty 30\"\n",
    "result = re.split(\"\\D+\", text)\n",
    "# Print results.\n",
    "for element in result:\n",
    "    print(element)"
   ]
  },
  {
   "cell_type": "code",
   "execution_count": 8,
   "metadata": {},
   "outputs": [
    {
     "name": "stdout",
     "output_type": "stream",
     "text": [
      "['example', 'eates', 'an', 'ayList', 'apacity', 'elements', 'elements', 'are', 'en', 'added', 'ayList', 'and', 'ayList', 'ed', 'accordingly']\n"
     ]
    }
   ],
   "source": [
    "import re\n",
    "# Input.\n",
    "text = \"The following example creates an ArrayList with a capacity of 50 elements. Four elements are then added to the ArrayList and the ArrayList is trimmed accordingly.\"\n",
    "#find all the words starting with 'a' or 'e'\n",
    "list = re.findall(\"[ae]\\w+\", text)\n",
    "# Print result.\n",
    "print(list)"
   ]
  },
  {
   "cell_type": "code",
   "execution_count": 9,
   "metadata": {},
   "outputs": [
    {
     "name": "stdout",
     "output_type": "stream",
     "text": [
      "50\n",
      "Index position: 62\n"
     ]
    }
   ],
   "source": [
    "import re\n",
    "# Input.\n",
    "text = \"The following example creates an ArrayList with a capacity of 50 elements. Four elements are then added to the ArrayList and the ArrayList is trimmed accordingly.\"\n",
    "\n",
    "for m in re.finditer(\"\\d+\", text):\n",
    "    print(m.group(0)) #m.group 0 is basically a value. 30 elements. 50 element, first occurence of a digit.\n",
    "    print(\"Index position:\", m.start()) #integer position \n",
    "\t"
   ]
  },
  {
   "cell_type": "code",
   "execution_count": 10,
   "metadata": {},
   "outputs": [
    {
     "name": "stdout",
     "output_type": "stream",
     "text": [
      "21 Ramkrishna Rd.\n"
     ]
    }
   ],
   "source": [
    "import re\n",
    "street = '21 Ramkrishna Road'\n",
    "print(re.sub('Road$', 'Rd.', street)) #replace road with rd. "
   ]
  },
  {
   "cell_type": "code",
   "execution_count": 11,
   "metadata": {},
   "outputs": [
    {
     "name": "stdout",
     "output_type": "stream",
     "text": [
      "Python:Exercises::PHP:exercises:\n"
     ]
    }
   ],
   "source": [
    "import re\n",
    "text = 'Python Exercises, PHP exercises.'\n",
    "print(re.sub(\"[ ,.]\", \":\", text)) #, is replaced with : because of space its has ::"
   ]
  },
  {
   "cell_type": "code",
   "execution_count": 13,
   "metadata": {},
   "outputs": [
    {
     "name": "stdout",
     "output_type": "stream",
     "text": [
      "Python:Exercises: PHP exercises.\n"
     ]
    }
   ],
   "source": [
    "import re\n",
    "text = 'Python Exercises, PHP exercises.'\n",
    "print(re.sub(\"[ ,.]\", \":\", text, 2)) #prints only 2 of : "
   ]
  },
  {
   "cell_type": "code",
   "execution_count": 14,
   "metadata": {},
   "outputs": [
    {
     "name": "stdout",
     "output_type": "stream",
     "text": [
      "['quick', 'brown', 'jumps']\n"
     ]
    }
   ],
   "source": [
    "import re\n",
    "text = 'The quick brown fox jumps over the lazy dog.'\n",
    "print(re.findall(r\"\\b\\w{5}\\b\", text)) # 5 words and starts with b and ends with b. "
   ]
  },
  {
   "cell_type": "code",
   "execution_count": 15,
   "metadata": {},
   "outputs": [
    {
     "name": "stdout",
     "output_type": "stream",
     "text": [
      "['quick', 'brown', 'jumps', 'over', 'lazy']\n"
     ]
    }
   ],
   "source": [
    "import re\n",
    "text = 'The quick brown fox jumps over the lazy dog.'\n",
    "print(re.findall(r\"\\b\\w{4,}\\b\", text)) #4 and up , "
   ]
  },
  {
   "cell_type": "code",
   "execution_count": 18,
   "metadata": {},
   "outputs": [
    {
     "name": "stdout",
     "output_type": "stream",
     "text": [
      "1_2\n"
     ]
    }
   ],
   "source": [
    "def camel_to_snake(text):\n",
    "        import re\n",
    "        str1 = re.sub('(.)([A-Z][a-z]+)', r'\\1_\\2', text) #. means any character. single character. \n",
    "        #wild card in the first position. 2nd position is cap a-z. 1_2 anything. two patterns. \n",
    "        return re.sub('([a-z0-9])([A-Z])', r'\\1_\\2', str1).lower()\n",
    "\n",
    "print(camel_to_snake('1_2'))"
   ]
  },
  {
   "cell_type": "code",
   "execution_count": 19,
   "metadata": {},
   "outputs": [
    {
     "name": "stdout",
     "output_type": "stream",
     "text": [
      "PythonExercises\n"
     ]
    }
   ],
   "source": [
    "def snake_to_camel(word):\n",
    "        import re\n",
    "        return ''.join(x.capitalize() or '_' for x in word.split('_')) \n",
    "    #first one will be captialize, for x in word.split. '' is space. split the _. meaning joining it. \n",
    "    #first cpatialize it. found any _ . we have to join it. \n",
    "\n",
    "print(snake_to_camel('python_exercises'))"
   ]
  },
  {
   "cell_type": "code",
   "execution_count": 22,
   "metadata": {},
   "outputs": [
    {
     "name": "stdout",
     "output_type": "stream",
     "text": [
      "['Pythontozoom', 'PHP', 'Java']\n"
     ]
    }
   ],
   "source": [
    "import re\n",
    "text1 = '\"Python\", \"PHP\", \"Java\"'\n",
    "print(re.findall(r'\"(.*?)\"', text1)) #single character wild cards "
   ]
  },
  {
   "cell_type": "code",
   "execution_count": 23,
   "metadata": {},
   "outputs": [
    {
     "name": "stdout",
     "output_type": "stream",
     "text": [
      "Original string: Python      Exercises\n",
      "Without extra spaces: Python Exercises\n"
     ]
    }
   ],
   "source": [
    "import re\n",
    "text1 = 'Python      Exercises'\n",
    "print(\"Original string:\",text1)\n",
    "print(\"Without extra spaces:\",re.sub(' +',' ',text1))\n"
   ]
  },
  {
   "cell_type": "code",
   "execution_count": 24,
   "metadata": {},
   "outputs": [
    {
     "name": "stdout",
     "output_type": "stream",
     "text": [
      "Original string:  Python    Exercises \n",
      "Without extra spaces: PythonExercises\n"
     ]
    }
   ],
   "source": [
    "import re\n",
    "text1 = ' Python    Exercises '\n",
    "print(\"Original string:\",text1)\n",
    "print(\"Without extra spaces:\",re.sub(r'\\s+', '',text1)) #joining and ending with s "
   ]
  },
  {
   "cell_type": "code",
   "execution_count": 25,
   "metadata": {},
   "outputs": [
    {
     "name": "stdout",
     "output_type": "stream",
     "text": [
      "PythonExercises12\n"
     ]
    }
   ],
   "source": [
    "import re\n",
    "text1 = '**//Python Exercises// - 12. '\n",
    "pattern = re.compile('[\\W_]+') #w is a word. followed _ and at least one occurence.  pick python and replace\n",
    "#space with null. \n",
    "print(pattern.sub('', text1)) #replacing space with text."
   ]
  },
  {
   "cell_type": "code",
   "execution_count": 27,
   "metadata": {},
   "outputs": [
    {
     "name": "stdout",
     "output_type": "stream",
     "text": [
      "Original string:  <p>Contents :</p><a href=\"https://w3resource.com\">Python Examples</a><a href=\"http://github.com\">Even More Examples</a>\n",
      "Urls:  ['https://w3resource.com', 'http://github.com']\n"
     ]
    }
   ],
   "source": [
    "import re\n",
    "text = '<p>Contents :</p><a href=\"https://w3resource.com\">Python Examples</a><a href=\"http://github.com\">Even More Examples</a>'\n",
    "urls = re.findall('http[s]?://(?:[a-zA-Z]|[0-9]|[$-_@.&+]|[!*\\(\\),]|(?:%[0-9a-fA-F][0-9a-fA-F]))+', text)\n",
    "#we need https. then ://, then we need a-z. then 0-9, then special characters. com \n",
    "print(\"Original string: \",text)\n",
    "print(\"Urls: \",urls)"
   ]
  },
  {
   "cell_type": "code",
   "execution_count": 30,
   "metadata": {},
   "outputs": [
    {
     "name": "stdout",
     "output_type": "stream",
     "text": [
      "['Python', 'Tutorial', 'And', 'Exercises', 'Nd']\n"
     ]
    }
   ],
   "source": [
    "import re\n",
    "text = \"PythonTutorialAndExercisesANd\"\n",
    "print(re.findall('[A-Z][^A-Z]*', text)) #^ is not captial A afterwards. "
   ]
  },
  {
   "cell_type": "code",
   "execution_count": 31,
   "metadata": {},
   "outputs": [
    {
     "name": "stdout",
     "output_type": "stream",
     "text": [
      "Original Text:  PHP Exercises\n",
      "Using 'php' replace PHP\n",
      "New Text:  php Exercises\n"
     ]
    }
   ],
   "source": [
    "import re\n",
    "text = \"PHP Exercises\"\n",
    "print(\"Original Text: \",text)\n",
    "redata = re.compile(re.escape('php'), re.IGNORECASE) #replace your php. PHP in captial also, see here. write in\n",
    "#IGNORECASE.\n",
    "new_text = redata.sub('php', 'PHP Exercises') \n",
    "print(\"Using 'php' replace PHP\") \n",
    "print(\"New Text: \",new_text)"
   ]
  },
  {
   "cell_type": "code",
   "execution_count": 32,
   "metadata": {},
   "outputs": [
    {
     "name": "stdout",
     "output_type": "stream",
     "text": [
      "Original Text:  \t\u001b[0;35mgoogle.com\u001b[0m \u001b[0;36m216.58.218.206\u001b[0m\n",
      "New Text:  \tgoogle.com 216.58.218.206\n"
     ]
    }
   ],
   "source": [
    "import re\n",
    "text = \"\\t\\u001b[0;35mgoogle.com\\u001b[0m \\u001b[0;36m216.58.218.206\\u001b[0m\"\n",
    "print(\"Original Text: \",text)\n",
    "reaesc = re.compile(r'\\x1b[^m]*m') #/t/u is a color. then we get color over at ip address. \n",
    "new_text = reaesc.sub('', text) #reaesc replaces the whole color \n",
    "print(\"New Text: \",new_text)"
   ]
  },
  {
   "cell_type": "code",
   "execution_count": 33,
   "metadata": {},
   "outputs": [
    {
     "name": "stdout",
     "output_type": "stream",
     "text": [
      "0-7: Clearly\n"
     ]
    }
   ],
   "source": [
    "import re\n",
    "text = \"Clearly, he has no excuse for such behavior.\"\n",
    "for m in re.finditer(r\"\\w+ly\", text): #word followed by ly. \n",
    "    print('%d-%d: %s' % (m.start(), m.end(), m.group(0))) # % place value at that position. % place ly there. \n",
    "    # % is a placeholder. 0-7 clearly. from start to end. group 0 is giving you the value of ly in it. "
   ]
  },
  {
   "cell_type": "code",
   "execution_count": 34,
   "metadata": {},
   "outputs": [
    {
     "name": "stdout",
     "output_type": "stream",
     "text": [
      "['The quick brown', 'fox jumps', 'over the lazy dog.']\n"
     ]
    }
   ],
   "source": [
    "import re\n",
    "text = 'The quick brown\\nfox jumps*over the lazy dog.'\n",
    "print(re.split('; |, |\\*|\\n',text))# lets you split on the basis of ; or , or \\n or *"
   ]
  },
  {
   "cell_type": "code",
   "execution_count": 35,
   "metadata": {},
   "outputs": [
    {
     "name": "stdout",
     "output_type": "stream",
     "text": [
      "True\n",
      "True\n",
      "True\n",
      "True\n",
      "False\n",
      "False\n",
      "False\n"
     ]
    }
   ],
   "source": [
    "def is_decimal(num):\n",
    "    import re\n",
    "    dnumre = re.compile(r\"\"\"^[0-9]+(\\.[0-9]{1,2})?$\"\"\") #0-9 with several dots. length of a number should be between\n",
    "    #1-2. ?$ any number at the end. \n",
    "    result = dnumre.search(num) \n",
    "    return bool(result)\n",
    "\n",
    "print(is_decimal('123.11')) #line 1. \n",
    "print(is_decimal('123.1'))\n",
    "print(is_decimal('123'))\n",
    "print(is_decimal('0.21'))\n",
    "\n",
    "print(is_decimal('123.1214'))\n",
    "print(is_decimal('3.124587')) #7 the length after dot. this is false. length agter dot greater than 2. \n",
    "print(is_decimal('e666.86')) #2 \n"
   ]
  },
  {
   "cell_type": "code",
   "execution_count": null,
   "metadata": {},
   "outputs": [],
   "source": [
    "# This looks for pattern that is ...any thing that starts atleast one digit and then . and then one or two digits\n",
    "\n",
    "so now only 1,2,3,4 qualifies for that.."
   ]
  },
  {
   "cell_type": "code",
   "execution_count": null,
   "metadata": {},
   "outputs": [],
   "source": [
    "8. Write a Python program to check a decimal with a precision of 2. "
   ]
  },
  {
   "cell_type": "code",
   "execution_count": 38,
   "metadata": {},
   "outputs": [
    {
     "name": "stdout",
     "output_type": "stream",
     "text": [
      " quick brown jumps over lazy.\n"
     ]
    }
   ],
   "source": [
    "#Write a Python program to remove words from a string of length between 1 and a given number.\n",
    "\n",
    "# Solution:-\n",
    "\n",
    "#Python Code:\n",
    "\n",
    "import re\n",
    "text = \"The quick brown fox jumps over the lazy dog.\" #length of a word is 3,5,2. the is 3. up to 3 \n",
    "#words will be removed. \n",
    "# remove words between 1 and 3\n",
    "shortword = re.compile(r'\\W*\\b\\w{1,3}\\b') #word and word between 1 and 3. b means does not have,1-3\n",
    "print(shortword.sub('', text))"
   ]
  },
  {
   "cell_type": "code",
   "execution_count": 36,
   "metadata": {},
   "outputs": [
    {
     "name": "stdout",
     "output_type": "stream",
     "text": [
      " quick brown jumps over lazy.\n"
     ]
    }
   ],
   "source": [
    "import re\n",
    "text = \"The quick brown fox jumps over the lazy dog.\"\n",
    "# remove words between 1 and 3\n",
    "shortword = re.compile(r'\\W*\\b\\w{1,3}\\b')\n",
    "print(shortword.sub('', text))"
   ]
  },
  {
   "cell_type": "code",
   "execution_count": null,
   "metadata": {},
   "outputs": [
    {
     "name": "stdout",
     "output_type": "stream",
     "text": [
      "Input number of data sets:\n"
     ]
    }
   ],
   "source": [
    "import re\n",
    "print(\"Input number of data sets:\")\n",
    "class c(int):\n",
    "    def __add__(self,n):\n",
    "        return c(int(self)+int(n))\n",
    "    def __sub__(self,n):\n",
    "        return c(int(self)-int(n))\n",
    "    def __mul__(self,n):\n",
    "        return c(int(self)*int(n)) #6x12 \n",
    "    def __truediv__(self,n):\n",
    "        return c(int(int(self)/int(n)))\n",
    "\n",
    "for i in range(int(input())): #expression +, then multiple - expression. this our expression\n",
    "    #this is how many times we are running it. 1 is just one time. \n",
    "    print(\"Input an expression:\")\n",
    "    print(eval(re.sub(r'(\\d+)',r'c(\\1)',input()[:-1]))) #regular expression, looks for anything having a\n",
    "    #digits. ends with integer. line 4 has c. C pass the int. the function. Add at line number 5. subtract at 7 \n",
    "    #line number 9 and division. at line number 11. This line, we are going, we are dividing the expression.\n",
    "    #so that we can evluate the expression. how calculators work. /1 means the last one. that is the operator\n",
    "    #and the opeuond. \n",
    "    #operators are +/*. operond (numbers). /1 the type of a operator you want. "
   ]
  },
  {
   "cell_type": "code",
   "execution_count": 1,
   "metadata": {
    "collapsed": true
   },
   "outputs": [
    {
     "name": "stdout",
     "output_type": "stream",
     "text": [
      "Original string:\n",
      "KDeoALOklOOHserfLoAJSIskdsf\n",
      "After removing lowercase letters, above string becomes:\n",
      "KDALOOOHLAJSI\n"
     ]
    }
   ],
   "source": [
    "import re\n",
    "str1 = 'KDeoALOklOOHserfLoAJSIskdsf' # the original text with small and capilat letters\n",
    "print(\"Original string:\")\n",
    "print(str1) # printing the originial letters\n",
    "print(\"After removing lowercase letters, above string becomes:\")\n",
    "remove_lower = lambda text: re.sub('[a-z]', '', text) # replacing the small letters with blank using sub func\n",
    "#'' is blank\n",
    "it picks the text variable and perform replacing of small letters with blank...that is what lambda does here.\n",
    "result =  remove_lower(str1)\n",
    "print(result)\n"
   ]
  },
  {
   "cell_type": "code",
   "execution_count": null,
   "metadata": {},
   "outputs": [],
   "source": [
    "A lambda function is a small anonymous function.\n",
    "\n",
    "A lambda function can take any number of arguments, but can only have one expression."
   ]
  },
  {
   "cell_type": "code",
   "execution_count": 3,
   "metadata": {},
   "outputs": [
    {
     "name": "stdout",
     "output_type": "stream",
     "text": [
      "15\n"
     ]
    }
   ],
   "source": [
    " #lambda function that adds 10 to the number passed in as an argument, and print the result:\n",
    "\n",
    "x = lambda a : a + 10\n",
    "print(x(5))"
   ]
  },
  {
   "cell_type": "code",
   "execution_count": null,
   "metadata": {},
   "outputs": [],
   "source": [
    "The power of lambda is better shown when you use them as an anonymous function inside another function.\n",
    "\n",
    "Say you have a function definition that takes one argument, and that argument will be multiplied with an unknown number:\n",
    "\n",
    "def myfunc(n):\n",
    "  return lambda a : a * n"
   ]
  },
  {
   "cell_type": "code",
   "execution_count": 4,
   "metadata": {},
   "outputs": [
    {
     "name": "stdout",
     "output_type": "stream",
     "text": [
      "22\n",
      "33\n"
     ]
    }
   ],
   "source": [
    "def myfunc(n):\n",
    "    return lambda a : a * n\n",
    "\n",
    "mydoubler = myfunc(2)\n",
    "mytripler = myfunc(3)\n",
    "\n",
    "print(mydoubler(11)) \n",
    "print(mytripler(11))"
   ]
  },
  {
   "cell_type": "code",
   "execution_count": null,
   "metadata": {},
   "outputs": [],
   "source": [
    "high_ord_func = lambda x, func: x + func(x)\n",
    "high_ord_func(2, lambda x: x * x)\n",
    "high_ord_func(2, lambda x: x + 3)\n"
   ]
  },
  {
   "cell_type": "code",
   "execution_count": 6,
   "metadata": {},
   "outputs": [
    {
     "data": {
      "text/plain": [
       "6"
      ]
     },
     "execution_count": 6,
     "metadata": {},
     "output_type": "execute_result"
    }
   ],
   "source": [
    "(lambda x, y, z: x + y + z)(1, 2, 3)\n",
    "(lambda x, y, z=3: x + y + z)(1, 2)\n",
    "(lambda x, y, z=3: x + y + z)(1, y=2)\n",
    "(lambda *args: sum(args))(1,2,3)\n",
    "(lambda **kwargs: sum(kwargs.values()))(one=1, two=2, three=3)\n",
    "(lambda x, *, y=0, z=0: x + y + z)(1, y=2, z=3)\n"
   ]
  },
  {
   "cell_type": "code",
   "execution_count": 10,
   "metadata": {},
   "outputs": [
    {
     "data": {
      "text/plain": [
       "42"
      ]
     },
     "execution_count": 10,
     "metadata": {},
     "output_type": "execute_result"
    }
   ],
   "source": [
    "(lambda *args: sum(args))(1,2,3,10,26)"
   ]
  },
  {
   "cell_type": "code",
   "execution_count": 8,
   "metadata": {},
   "outputs": [
    {
     "data": {
      "text/plain": [
       "6"
      ]
     },
     "execution_count": 8,
     "metadata": {},
     "output_type": "execute_result"
    }
   ],
   "source": [
    "(lambda **kwargs: sum(kwargs.values()))(one=1, two=2, three=3)"
   ]
  },
  {
   "cell_type": "code",
   "execution_count": 9,
   "metadata": {},
   "outputs": [
    {
     "data": {
      "text/plain": [
       "6"
      ]
     },
     "execution_count": 9,
     "metadata": {},
     "output_type": "execute_result"
    }
   ],
   "source": [
    "(lambda x, *, y=0, z=0: x + y + z)(1, y=2, z=3)"
   ]
  },
  {
   "cell_type": "code",
   "execution_count": null,
   "metadata": {},
   "outputs": [],
   "source": [
    "\n",
    "def sum(a,b,c):\n",
    "    return a+b+c\n",
    "\n",
    "sum(1,3,2,6)\n",
    "\n",
    "\n",
    "*args and **kwargs in Python\n",
    "\n",
    "*args\n",
    "\n",
    "The special syntax *args in function definitions in python is used to pass a variable number of arguments \n",
    "to a function. It is used to pass a non-keyworded, variable-length argument list.\n",
    "\n",
    "\n",
    "\n",
    "The syntax is to use the symbol * to take in a variable number of arguments; by convention, it is often \n",
    "used with the word args.\n",
    "What *args allows you to do is take in more arguments than the number of formal arguments that\n",
    "you previously defined. With *args, any number of extra arguments can be tacked on to your\\\n",
    "current formal parameters (including zero extra arguments).\n",
    "For example : we want to make a multiply function that takes any number of arguments and able \n",
    "    to multiply them all together. It can be done using *args.\n",
    "Using the *, the variable that we associate with the * becomes an iterable meaning you can do \n",
    "things like iterate over it, run some higher order functions such as map and filter, etc.\n",
    "Example for usage of *arg:\n",
    "filter_none\n",
    "edit\n",
    "play_arrow\n",
    "brightness_4\n",
    "# Python program to illustrate   \n",
    "# *args for variable number of arguments \n",
    "def myFun(*argv):  \n",
    "    for arg in argv:  \n",
    "        print (arg) \n",
    "    \n",
    "myFun('Hello', 'Welcome', 'to', 'GeeksforGeeks')"
   ]
  },
  {
   "cell_type": "code",
   "execution_count": null,
   "metadata": {},
   "outputs": [],
   "source": [
    "*kwargs\n",
    "\n",
    "The special syntax **kwargs in function definitions in python is used to pass a keyworded, \n",
    "variable-length argument list. We use the name kwargs with the double star. The reason is \n",
    "because the double star allows us to pass through keyword arguments (and any number of them).\n",
    "\n",
    "A keyword argument is where you provide a name to the variable as you pass it into the function.\n",
    "One can think of the kwargs as being a dictionary that maps each keyword to the value that we pass \n",
    "alongside it. That is why when we iterate over the kwargs there doesn’t seem to be any order in which \n",
    "they were printed out.\n",
    "Example for usage of **kwargs:\n",
    "filter_none\n",
    "edit\n",
    "play_arrow\n",
    "brightness_4\n",
    "# Python program to illustrate   \n",
    "# *kargs for variable number of \n",
    "keyword arguments \n",
    "  \n",
    "def myFun(**kwargs):  \n",
    "    for key, value in kwargs.items(): \n",
    "        print (\"%s == %s\" %(key, value)) \n",
    "  \n",
    "# Driver code \n",
    "myFun(first ='Geeks', mid ='for', last='Geeks') "
   ]
  },
  {
   "cell_type": "code",
   "execution_count": 11,
   "metadata": {},
   "outputs": [
    {
     "name": "stdout",
     "output_type": "stream",
     "text": [
      "first == Geeks\n",
      "mid == for\n",
      "last == Geeks\n"
     ]
    }
   ],
   "source": [
    "def myFun(**kwargs):  \n",
    "    for key, value in kwargs.items(): \n",
    "        print (\"%s == %s\" %(key, value)) \n",
    "  \n",
    "# Driver code \n",
    "myFun(first ='Geeks', mid ='for', last='Geeks') "
   ]
  },
  {
   "cell_type": "code",
   "execution_count": 13,
   "metadata": {},
   "outputs": [
    {
     "name": "stdout",
     "output_type": "stream",
     "text": [
      "Original list of dictionaries :\n",
      "[{'make': 'Nokia', 'model': 216, 'color': 'Black'}, {'make': 'Mi Max', 'model': '2', 'color': 'Gold'}, {'make': 'Samsung', 'model': 7, 'color': 'Blue'}]\n",
      "\n",
      "Sorting the List of dictionaries :\n",
      "[{'make': 'Nokia', 'model': 216, 'color': 'Black'}, {'make': 'Samsung', 'model': 7, 'color': 'Blue'}, {'make': 'Mi Max', 'model': '2', 'color': 'Gold'}]\n"
     ]
    }
   ],
   "source": [
    "models = [{'make':'Nokia', 'model':216, 'color':'Black'}, {'make':'Mi Max', 'model':'2', 'color':'Gold'}, {'make':'Samsung', 'model': 7, 'color':'Blue'}]\n",
    "print(\"Original list of dictionaries :\")\n",
    "print(models)\n",
    "sorted_models = sorted(models, key = lambda x: x['color'])\n",
    "print(\"\\nSorting the List of dictionaries :\")\n",
    "print(sorted_models)"
   ]
  },
  {
   "cell_type": "code",
   "execution_count": 14,
   "metadata": {},
   "outputs": [
    {
     "name": "stdout",
     "output_type": "stream",
     "text": [
      "Original list of integers:\n",
      "[1, 2, 3, 4, 5, 6, 7, 8, 9, 10]\n",
      "\n",
      "Even numbers from the said list:\n",
      "[2, 4, 6, 8, 10]\n",
      "\n",
      "Odd numbers from the said list:\n",
      "[1, 3, 5, 7, 9]\n"
     ]
    }
   ],
   "source": [
    "nums = [1, 2, 3, 4, 5, 6, 7, 8, 9, 10]\n",
    "print(\"Original list of integers:\")\n",
    "print(nums)\n",
    "print(\"\\nEven numbers from the said list:\")\n",
    "even_nums = list(filter(lambda x: x%2 == 0, nums))\n",
    "print(even_nums)\n",
    "print(\"\\nOdd numbers from the said list:\")\n",
    "odd_nums = list(filter(lambda x: x%2 != 0, nums))\n",
    "print(odd_nums)"
   ]
  },
  {
   "cell_type": "code",
   "execution_count": 15,
   "metadata": {},
   "outputs": [
    {
     "name": "stdout",
     "output_type": "stream",
     "text": [
      "Original list of integers:\n",
      "[1, 2, 3, 4, 5, 6, 7, 8, 9, 10]\n",
      "\n",
      "Square every number of the said list:\n",
      "[1, 4, 9, 16, 25, 36, 49, 64, 81, 100]\n",
      "\n",
      "Cube every number of the said list:\n",
      "[1, 8, 27, 64, 125, 216, 343, 512, 729, 1000]\n"
     ]
    }
   ],
   "source": [
    "nums = [1, 2, 3, 4, 5, 6, 7, 8, 9, 10]\n",
    "print(\"Original list of integers:\")\n",
    "print(nums)\n",
    "print(\"\\nSquare every number of the said list:\")\n",
    "square_nums = list(map(lambda x: x ** 2, nums)) #map applies to each element of a list. \n",
    "print(square_nums)\n",
    "print(\"\\nCube every number of the said list:\")\n",
    "cube_nums = list(map(lambda x: x ** 3, nums))\n",
    "print(cube_nums)"
   ]
  },
  {
   "cell_type": "code",
   "execution_count": 16,
   "metadata": {},
   "outputs": [
    {
     "name": "stdout",
     "output_type": "stream",
     "text": [
      "True\n",
      "False\n"
     ]
    }
   ],
   "source": [
    "starts_with = lambda x: True if x.startswith('P') else False\n",
    "print(starts_with('Python'))\n",
    "starts_with = lambda x: True if x.startswith('P') else False\n",
    "print(starts_with('Java'))"
   ]
  },
  {
   "cell_type": "code",
   "execution_count": 17,
   "metadata": {},
   "outputs": [
    {
     "name": "stdout",
     "output_type": "stream",
     "text": [
      "2020-03-01 21:43:02.782835\n",
      "2020\n",
      "3\n",
      "1\n",
      "21:43:02.782835\n"
     ]
    }
   ],
   "source": [
    "import datetime\n",
    "now = datetime.datetime.now()\n",
    "print(now)\n",
    "year = lambda x: x.year\n",
    "month = lambda x: x.month\n",
    "day = lambda x: x.day\n",
    "t = lambda x: x.time()\n",
    "print(year(now))\n",
    "print(month(now))\n",
    "print(day(now))\n",
    "print(t(now))"
   ]
  },
  {
   "cell_type": "code",
   "execution_count": 18,
   "metadata": {},
   "outputs": [
    {
     "name": "stdout",
     "output_type": "stream",
     "text": [
      "True\n",
      "True\n",
      "False\n",
      "True\n",
      "False\n",
      "True\n",
      "\n",
      "Print checking numbers:\n",
      "True\n",
      "True\n"
     ]
    }
   ],
   "source": [
    "is_num = lambda q: q.replace('.','',1).isdigit()\n",
    "print(is_num('26587'))\n",
    "print(is_num('4.2365'))\n",
    "print(is_num('-12547'))\n",
    "print(is_num('00'))\n",
    "print(is_num('A001'))\n",
    "print(is_num('001'))\n",
    "print(\"\\nPrint checking numbers:\")\n",
    "is_num1 = lambda r: is_num(r[1:]) if r[0]=='-' else is_num(r)\n",
    "print(is_num1('-16.4'))\n",
    "print(is_num1('-24587.11'))"
   ]
  },
  {
   "cell_type": "code",
   "execution_count": 19,
   "metadata": {},
   "outputs": [
    {
     "name": "stdout",
     "output_type": "stream",
     "text": [
      "True\n",
      "True\n",
      "False\n",
      "True\n",
      "False\n",
      "True\n",
      "\n",
      "Print checking numbers:\n",
      "True\n",
      "True\n"
     ]
    }
   ],
   "source": [
    "is_num = lambda q: q.replace('.','',1).isdigit() #replaces only 1 dot here. \n",
    "print(is_num('26587'))\n",
    "print(is_num('4.2365'))\n",
    "print(is_num('-12547')) #false because of negative. else everything else is true. does not handle negative. \n",
    "print(is_num('00')) #has to be one and up\n",
    "print(is_num('A001'))\n",
    "print(is_num('001'))\n",
    "print(\"\\nPrint checking numbers:\")\n",
    "is_num1 = lambda r: is_num(r[1:]) if r[0]=='-' else is_num(r) #if r{0} then it will print true. \n",
    "print(is_num1('-16.4')) \n",
    "print(is_num1('-24587.11')) #negative is true. "
   ]
  },
  {
   "cell_type": "code",
   "execution_count": 20,
   "metadata": {},
   "outputs": [
    {
     "name": "stdout",
     "output_type": "stream",
     "text": [
      "Fibonacci series upto 2:\n",
      "[0, 1]\n",
      "\n",
      "Fibonacci series upto 5:\n",
      "[0, 1, 1, 2, 3]\n",
      "\n",
      "Fibonacci series upto 6:\n",
      "[0, 1, 1, 2, 3, 5]\n",
      "\n",
      "Fibonacci series upto 9:\n",
      "[0, 1, 1, 2, 3, 5, 8, 13, 21]\n"
     ]
    }
   ],
   "source": [
    "from functools import reduce\n",
    " \n",
    "fib_series = lambda n: reduce(lambda x, _: x+[x[-1]+x[-2]], #0,1 and is -1 and -2. \n",
    "                                range(n-2), [0, 1])\n",
    " \n",
    "print(\"Fibonacci series upto 2:\")\n",
    "print(fib_series(2)) #when it is 0, line 3 does not go. \n",
    "print(\"\\nFibonacci series upto 5:\") #back to number 3 we have 5-2. \n",
    "print(fib_series(5)) #5-2 = 3. will run 3 times. \n",
    "print(\"\\nFibonacci series upto 6:\")\n",
    "print(fib_series(6))\n",
    "print(\"\\nFibonacci series upto 9:\")\n",
    "print(fib_series(9))\n",
    "#reduce function takes a list, and 1st two element of a list. then perform a operation then the new result wil\n",
    "#come due to operation. then the subsequent element will be added to the list. the 3rd element. "
   ]
  },
  {
   "cell_type": "markdown",
   "metadata": {},
   "source": [
    "### Write a Python program to find intersection of two given arrays using Lambda. \n",
    "\n",
    "array_nums1 = [1, 2, 3, 5, 7, 8, 9, 10]\n",
    "array_nums2 = [1, 2, 4, 8, 9]\n",
    "print(\"Original arrays:\")\n",
    "print(array_nums1)\n",
    "print(array_nums2)\n",
    "result = list(filter(lambda x: x in array_nums1, array_nums2)) #show you the common arrays \n",
    "print (\"\\nIntersection of the said arrays: \",result)\n",
    "#intersection means common elements. "
   ]
  },
  {
   "cell_type": "code",
   "execution_count": 2,
   "metadata": {},
   "outputs": [
    {
     "name": "stdout",
     "output_type": "stream",
     "text": [
      "Original arrays:\n",
      "[-1, 2, -3, 5, 7, 8, 9, -10]\n",
      "\n",
      "Rearrange positive and negative numbers of the said array:\n",
      "[-1, -3, -10, 2, 5, 7, 8, 9]\n"
     ]
    }
   ],
   "source": [
    "array_nums = [-1, 2, -3, 5, 7, 8, 9, -10]\n",
    "print(\"Original arrays:\")\n",
    "print(array_nums)\n",
    "result = [x for x in array_nums if x < 0] + [x for x in array_nums if x >= 0]\n",
    "print(\"\\nRearrange positive and negative numbers of the said array:\")\n",
    "print(result)\n",
    "#we rearrange from less than 0 on the left to more than 0 on the right.\n",
    "#1st loop takes a negative number and put it in a list. similiarity the 2nd loop takes a positive number. and put it\n",
    "# in a list. then merge both the list"
   ]
  },
  {
   "cell_type": "code",
   "execution_count": 3,
   "metadata": {},
   "outputs": [
    {
     "name": "stdout",
     "output_type": "stream",
     "text": [
      "Original list:\n",
      "[1, 2, 3]\n",
      "[4, 5, 6]\n",
      "\n",
      "Result: after adding two list\n",
      "[5, 7, 9]\n"
     ]
    }
   ],
   "source": [
    "#Write a Python program to add two given lists using map and lambda\n",
    "nums1 = [1, 2, 3]\n",
    "nums2 = [4, 5, 6]\n",
    "print(\"Original list:\")\n",
    "print(nums1)\n",
    "print(nums2)\n",
    "result = map(lambda x, y: x + y, nums1, nums2)\n",
    "print(\"\\nResult: after adding two list\")\n",
    "print(list(result))"
   ]
  },
  {
   "cell_type": "code",
   "execution_count": 4,
   "metadata": {},
   "outputs": [
    {
     "name": "stdout",
     "output_type": "stream",
     "text": [
      "Input number of students: 3\n",
      "Name: william\n",
      "Grade: 5\n",
      "Name: suourabh \n",
      "Grade: 4\n",
      "Name: david\n",
      "Grade: 7\n",
      "\n",
      "Names and Grades of all students:\n",
      "[['william', 5.0], ['suourabh ', 4.0], ['david', 7.0]]\n",
      "\n",
      "Second lowest grade:  5.0\n",
      "\n",
      "Names:\n",
      "william\n"
     ]
    }
   ],
   "source": [
    "students = []\n",
    "sec_name = [] #second lowest score. \n",
    "second_low = 0\n",
    "n = int(input(\"Input number of students: \"))\n",
    "for _ in range(n):\n",
    "   s_name = input(\"Name: \")\n",
    "   score = float(input(\"Grade: \"))\n",
    "   students.append([s_name,score])\n",
    "print(\"\\nNames and Grades of all students:\")\n",
    "print(students)\n",
    "order =sorted(students, key = lambda x: int(x[1])) #sorting it base on name and grade. \n",
    "#1 is giving you the grade. like 5.0, 4.0, 7.0. and students are will, sour, and key is the grades 5.0. \n",
    "for i in range(n): #3, run it 3 times. \n",
    "   if order[i][1] != order[0][1]: #[i][1] 0,1 in first run. order of 0,1. first list will be william with 5.0 \n",
    "    #1,1 will be sourabh, and 2,1 will be david. if they do not match !. second low is 4.0. !=[0,1] is 5.0 = 5.0\n",
    "    #then 4.0 = 5.0, then 7.0 = 5.0/ our 1st low or equal is 5.0. then 4.0 = 5.0 is our 2nd low. and our 3rd low\n",
    "    #is going to be 7.0 \n",
    "       second_low = order[i][1]\n",
    "       break\n",
    "print(\"\\nSecond lowest grade: \",second_low)\n",
    "sec_student_name = [x[0] for x in order if x[1] == second_low] #checks to see who has 5.0 2nd iterination \n",
    "#is going to run for 4.0=4.0 then 5.0=4.0 name is x[0] and x[1] is the number being compared. \n",
    "sec_student_name.sort()\n",
    "print(\"\\nNames:\")\n",
    "for s_name in sec_student_name:\n",
    "   print(s_name)"
   ]
  },
  {
   "cell_type": "code",
   "execution_count": 5,
   "metadata": {},
   "outputs": [
    {
     "name": "stdout",
     "output_type": "stream",
     "text": [
      "Orginal list:\n",
      "[19, 65, 57, 39, 152, 639, 121, 44, 90, 190]\n",
      "\n",
      "Numbers of the above list divisible by nineteen or thirteen:\n",
      "[19, 65, 57, 39, 152, 190]\n"
     ]
    }
   ],
   "source": [
    "nums = [19, 65, 57, 39, 152, 639, 121, 44, 90, 190]\n",
    "print(\"Orginal list:\")\n",
    "print(nums) \n",
    "result = list(filter(lambda x: (x % 19 == 0 or x % 13 == 0), nums)) #nums of 19,65 is a x%19  \n",
    "print(\"\\nNumbers of the above list divisible by nineteen or thirteen:\")\n",
    "print(result)"
   ]
  },
  {
   "cell_type": "code",
   "execution_count": 6,
   "metadata": {},
   "outputs": [
    {
     "name": "stdout",
     "output_type": "stream",
     "text": [
      "Orginal list of strings:\n",
      "['php', 'w3r', 'Python', 'abcd', 'Java', 'aaa']\n",
      "\n",
      "List of palindromes:\n",
      "['php', 'aaa']\n"
     ]
    }
   ],
   "source": [
    "texts = [\"php\", \"w3r\", \"Python\", \"abcd\", \"Java\", \"aaa\"]\n",
    "print(\"Orginal list of strings:\")\n",
    "print(texts) \n",
    "result = list(filter(lambda x: (x == \"\".join(reversed(x))), texts)) \n",
    "print(\"\\nList of palindromes:\")\n",
    "print(result) "
   ]
  },
  {
   "cell_type": "code",
   "execution_count": 7,
   "metadata": {},
   "outputs": [
    {
     "name": "stdout",
     "output_type": "stream",
     "text": [
      "Orginal list of strings:\n",
      "['php', 'w3r', 'Python', 'abcd', 'Java', 'aaa']\n",
      "\n",
      "List of palindromes:\n",
      "['php', 'aaa']\n"
     ]
    }
   ],
   "source": [
    "texts = [\"php\", \"w3r\", \"Python\", \"abcd\", \"Java\", \"aaa\"] #php cannot be reversed. aaa cannot be reversed. \n",
    "#both will be same. pallindrome. \n",
    "print(\"Orginal list of strings:\")\n",
    "print(texts) \n",
    "result = list(filter(lambda x: (x == \"\".join(reversed(x))), texts)) \n",
    "print(\"\\nList of palindromes:\")\n",
    "print(result) "
   ]
  },
  {
   "cell_type": "code",
   "execution_count": 12,
   "metadata": {},
   "outputs": [
    {
     "name": "stdout",
     "output_type": "stream",
     "text": [
      "Orginal list of strings:\n",
      "['bcda', 'abce', 'cbda', 'cbea', 'adcb']\n",
      "\n",
      "Anagrams of 'abcd' in the above string:  ['bcda', 'cbda', 'adcb']\n"
     ]
    }
   ],
   "source": [
    "from collections import Counter  \n",
    "texts = [\"bcda\", \"abce\", \"cbda\", \"cbea\", \"adcb\"] \n",
    "str = \"abcd\"\n",
    "print(\"Orginal list of strings:\")\n",
    "print(texts) \n",
    "result = list(filter(lambda x: (Counter(str) == Counter(x)), texts)) #gives you frequency of a word. 1 time. \n",
    "print(\"\\nAnagrams of 'abcd' in the above string: \",result)\n",
    "#abcd is the anagram (main) a,ab,abc are angram of abcd "
   ]
  },
  {
   "cell_type": "code",
   "execution_count": 11,
   "metadata": {},
   "outputs": [
    {
     "name": "stdout",
     "output_type": "stream",
     "text": [
      "Counter({'c': 2, 'a': 1, 'b': 1, 'd': 1})\n"
     ]
    }
   ],
   "source": [
    "str=\"abcdc\"\n",
    "\n",
    "print(Counter(str))"
   ]
  },
  {
   "cell_type": "code",
   "execution_count": null,
   "metadata": {},
   "outputs": [],
   "source": []
  }
 ],
 "metadata": {
  "kernelspec": {
   "display_name": "Python 3",
   "language": "python",
   "name": "python3"
  },
  "language_info": {
   "codemirror_mode": {
    "name": "ipython",
    "version": 3
   },
   "file_extension": ".py",
   "mimetype": "text/x-python",
   "name": "python",
   "nbconvert_exporter": "python",
   "pygments_lexer": "ipython3",
   "version": "3.7.3"
  }
 },
 "nbformat": 4,
 "nbformat_minor": 2
}
