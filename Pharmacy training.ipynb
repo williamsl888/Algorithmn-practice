{
 "cells": [
  {
   "cell_type": "code",
   "execution_count": 17,
   "metadata": {},
   "outputs": [],
   "source": [
    "def predictInReadableFormat(prescription):\n",
    "    \n",
    "    q= 'EVERY'\n",
    "    qH='EVERY HOUR'\n",
    "    qAM= 'EVERY MORNING'\n",
    "    qPM= 'EVERY EVENING'\n",
    "    qHS= 'EVERY BEDTIME'\n",
    "    qD= 'EVERY DAY'\n",
    "    qOD= 'EVERY OTHER DAY'\n",
    "    qWK= 'EVERY WEEK'\n",
    "    qMO= 'EVERY MONTH'\n",
    "\n",
    "    BID= 'TWICE A DAY'\n",
    "    TID= 'THREE A DAY'\n",
    "    QID= 'FOUR A DAY'\n",
    "\n",
    "\n",
    "    C= 'WITH'\n",
    "    AC= 'BEFORE A MEAL'\n",
    "    PC= 'AFTER A MEAL'\n",
    "    HS= 'AT BEDTIME'\n",
    "    PRN= 'AS NEEDED'\n",
    "    UD= 'AS DIRECTED'\n",
    "    AA= 'OF EACH'\n",
    "    QS= 'QUANTITY SUFFICIENT'\n",
    "    GTT= 'DROP'\n",
    "\n",
    "    if 'q' in prescription:\n",
    "        print('1 tablet '+q)\n",
    "        \n",
    "    if 'qH' in prescription:\n",
    "        print('1 tablet '+qH)\n",
    "    if 'qAM' in prescription:\n",
    "        print('1 tablet '+qAM)\n",
    "    if 'qPM' in prescription:\n",
    "        print('1 tablet '+qPM)\n",
    "    if 'qHS' in prescription:\n",
    "        print('1 tablet '+qHS)\n",
    "    if 'qD' in prescription:\n",
    "        print('1 tablet '+qD)\n",
    "    if 'qOD' in prescription:\n",
    "        print('1 tablet '+qOD)\n",
    "    if 'qWK' in prescription:\n",
    "        print('1 tablet '+qWK)\n",
    "    if 'qMO' in prescription:\n",
    "        print('1 tablet '+qMO)\n",
    "    if 'BID' in prescription:\n",
    "        print('1 tablet '+BID)\n",
    "    if 'TID' in prescription:\n",
    "        print('1 tablet '+TID)\n",
    "    if 'QID' in prescription:\n",
    "        print('1 tablet '+QID)\n",
    "\n",
    "    if 'AC' in prescription:\n",
    "        print('1 tablet '+AC)\n",
    "    "
   ]
  },
  {
   "cell_type": "code",
   "execution_count": 18,
   "metadata": {},
   "outputs": [
    {
     "name": "stdout",
     "output_type": "stream",
     "text": [
      "1 tablet BEFORE A MEAL\n"
     ]
    }
   ],
   "source": [
    "predictInReadableFormat('AC')"
   ]
  },
  {
   "cell_type": "code",
   "execution_count": 19,
   "metadata": {},
   "outputs": [
    {
     "name": "stdout",
     "output_type": "stream",
     "text": [
      "1 tablet TWICE A DAY\n"
     ]
    }
   ],
   "source": [
    "predictInReadableFormat('BID')"
   ]
  }
 ],
 "metadata": {
  "kernelspec": {
   "display_name": "Python 3",
   "language": "python",
   "name": "python3"
  },
  "language_info": {
   "codemirror_mode": {
    "name": "ipython",
    "version": 3
   },
   "file_extension": ".py",
   "mimetype": "text/x-python",
   "name": "python",
   "nbconvert_exporter": "python",
   "pygments_lexer": "ipython3",
   "version": "3.7.3"
  }
 },
 "nbformat": 4,
 "nbformat_minor": 2
}
